{
 "cells": [
  {
   "cell_type": "code",
   "execution_count": 16,
   "id": "0e8ae9f4-3ffb-4a07-bf09-940248f3b8d8",
   "metadata": {},
   "outputs": [],
   "source": [
    "from glob import glob\n",
    "from tqdm import tqdm\n",
    "import soundfile as sf\n",
    "import librosa\n",
    "import os\n",
    "import json\n",
    "from multiprocess import Pool\n",
    "import itertools\n",
    "\n",
    "def chunks(l, n):\n",
    "    for i in range(0, len(l), n):\n",
    "        yield (l[i: i + n], i // n)\n",
    "\n",
    "def multiprocessing(strings, function, cores=6, returned=True):\n",
    "    df_split = chunks(strings, len(strings) // cores)\n",
    "    pool = Pool(cores)\n",
    "    pooled = pool.map(function, df_split)\n",
    "    pool.close()\n",
    "    pool.join()\n",
    "\n",
    "    if returned:\n",
    "        return list(itertools.chain(*pooled))"
   ]
  },
  {
   "cell_type": "code",
   "execution_count": 2,
   "id": "a0494ff5-1ca9-464b-a2f7-0d0e6862086b",
   "metadata": {},
   "outputs": [
    {
     "name": "stderr",
     "output_type": "stream",
     "text": [
      "/home/ubuntu/.local/lib/python3.10/site-packages/tqdm/auto.py:21: TqdmWarning: IProgress not found. Please update jupyter and ipywidgets. See https://ipywidgets.readthedocs.io/en/stable/user_install.html\n",
      "  from .autonotebook import tqdm as notebook_tqdm\n",
      "/usr/lib/python3/dist-packages/scipy/__init__.py:146: UserWarning: A NumPy version >=1.17.3 and <1.25.0 is required for this version of SciPy (detected version 1.26.4\n",
      "  warnings.warn(f\"A NumPy version >={np_minversion} and <{np_maxversion}\"\n"
     ]
    }
   ],
   "source": [
    "from datasets import load_dataset\n",
    "\n",
    "ds = load_dataset(\"malaysia-ai/common_voice_17_0\")"
   ]
  },
  {
   "cell_type": "code",
   "execution_count": 3,
   "id": "a402653d-b93b-4d56-8dcb-6f421cb1f801",
   "metadata": {},
   "outputs": [],
   "source": [
    "train = ds['train'].to_pandas()"
   ]
  },
  {
   "cell_type": "code",
   "execution_count": 33,
   "id": "5314da71-4813-408c-9e39-dc798fe6cdfa",
   "metadata": {},
   "outputs": [],
   "source": [
    "from tqdm import tqdm\n",
    "import string\n",
    "import re\n",
    "import pandas as pd\n",
    "\n",
    "punct = set('!\"#$%&()*+,./:;<=>?@[\\\\]^_`{|}~')\n",
    "digits = set(string.digits)\n",
    "\n",
    "mapping = {\n",
    "    '‘': '\\'',\n",
    "    '“': '\"',\n",
    "    '”': '\"',\n",
    "    '–': '-',\n",
    "    '—': '-',\n",
    "    '’': '\\'',\n",
    "    '\\t': '',\n",
    "    '\\n': '',\n",
    "    '…': ' ',\n",
    "}\n",
    "\n",
    "def loop(indices):\n",
    "    indices, _ = indices\n",
    "\n",
    "    rows = pd.read_parquet('train-common-voice.parquet')\n",
    "    \n",
    "    chars = set()\n",
    "    for i in tqdm(indices):\n",
    "        s = rows.iloc[i]['sentence']\n",
    "        if not isinstance(s, str):\n",
    "            continue\n",
    "        if len(set(s) & digits):\n",
    "            continue\n",
    "        t = s.lower()\n",
    "        for k, v in mapping.items():\n",
    "            t = t.replace(k, v)\n",
    "        t = [c for c in t if c not in punct]\n",
    "        t = re.sub(r'[ ]+', ' ', ''.join(t)).strip()\n",
    "        chars.update(t)\n",
    "    return list(chars)"
   ]
  },
  {
   "cell_type": "code",
   "execution_count": 29,
   "id": "f6e5df2c-9864-4a58-a713-0a098929dff8",
   "metadata": {},
   "outputs": [
    {
     "name": "stderr",
     "output_type": "stream",
     "text": [
      "100%|██████████| 1000/1000 [00:00<00:00, 7145.94it/s]\n"
     ]
    }
   ],
   "source": [
    "chars = loop((range(1000), 0))"
   ]
  },
  {
   "cell_type": "code",
   "execution_count": 34,
   "id": "07de6f36-8f16-49d5-a543-937923486970",
   "metadata": {},
   "outputs": [
    {
     "name": "stderr",
     "output_type": "stream",
     "text": [
      "100%|██████████| 668955/668955 [01:33<00:00, 7129.42it/s] \n",
      "100%|██████████| 668955/668955 [01:34<00:00, 7095.53it/s] \n",
      "100%|██████████| 668955/668955 [01:36<00:00, 6938.11it/s]\n",
      "100%|██████████| 668955/668955 [01:38<00:00, 6767.53it/s] \n",
      "100%|██████████| 668955/668955 [01:36<00:00, 6901.58it/s] \n",
      "100%|██████████| 668955/668955 [01:37<00:00, 6882.52it/s] \n",
      "100%|██████████| 668955/668955 [01:36<00:00, 6944.10it/s] \n",
      "100%|██████████| 668955/668955 [01:36<00:00, 6965.13it/s]\n",
      "100%|██████████| 668955/668955 [01:39<00:00, 6691.20it/s]\n",
      "100%|██████████| 668955/668955 [01:44<00:00, 6382.85it/s]\n"
     ]
    }
   ],
   "source": [
    "chars = multiprocessing(range(len(train)), loop, cores = 10)"
   ]
  },
  {
   "cell_type": "code",
   "execution_count": 35,
   "id": "d7388062-f000-4c8b-8d6b-9805cbe1824f",
   "metadata": {},
   "outputs": [
    {
     "data": {
      "text/plain": [
       "14585"
      ]
     },
     "execution_count": 35,
     "metadata": {},
     "output_type": "execute_result"
    }
   ],
   "source": [
    "len(chars)"
   ]
  },
  {
   "cell_type": "code",
   "execution_count": 38,
   "id": "90830356-7cff-4ab9-ac04-ddf5504441ad",
   "metadata": {},
   "outputs": [],
   "source": [
    "with open('cv-17-vocab.json', 'w') as fopen:\n",
    "    json.dump(list(set(chars)), fopen)"
   ]
  },
  {
   "cell_type": "code",
   "execution_count": 43,
   "id": "c1014884-97a8-4784-ba99-64920e3a2e2e",
   "metadata": {},
   "outputs": [],
   "source": [
    "vocab = list(set(chars))"
   ]
  },
  {
   "cell_type": "code",
   "execution_count": 44,
   "id": "cea2996d-5185-44c0-af39-1a4201cab027",
   "metadata": {},
   "outputs": [],
   "source": [
    "vocab = ['BLANK', 'PAD', 'UNK'] + vocab\n",
    "vocab = {c: no for no, c in enumerate(vocab)}\n",
    "rev_vocab = {v: k for k, v in vocab.items()}\n",
    "pad_id = 1"
   ]
  },
  {
   "cell_type": "code",
   "execution_count": 47,
   "id": "e614cd38-631c-4c4d-9341-57384d888bdf",
   "metadata": {},
   "outputs": [],
   "source": [
    "data = train.iloc[0]\n",
    "# y, sr = librosa.load(data['audio_filename'], sr = 16000)\n",
    "s = data['sentence']\n",
    "t = s.lower()\n",
    "for k, v in mapping.items():\n",
    "    t = t.replace(k, v)\n",
    "t = [c for c in t if c not in punct]\n",
    "t = re.sub(r'[ ]+', ' ', ''.join(t)).strip()\n",
    "label = [vocab[c] for c in t]"
   ]
  },
  {
   "cell_type": "code",
   "execution_count": 51,
   "id": "10dbcb2d-784a-412b-8304-c170551af57c",
   "metadata": {},
   "outputs": [
    {
     "data": {
      "text/plain": [
       "tensor([7265, 5108, 4997, 5086, 7474, 5108, 6455, 2015, 5108, 6314, 3123, 3123,\n",
       "        5108, 4997, 5086, 7474, 5108, 4997, 7474, 5108, 4997, 2015, 4997, 3123,\n",
       "        6455, 7474, 5108, 5237, 1867, 5656, 7474, 4575, 5037, 1421, 5108, 7474,\n",
       "        5108, 4162, 3123, 4079, 3123, 5108,  614, 7474])"
      ]
     },
     "execution_count": 51,
     "metadata": {},
     "output_type": "execute_result"
    }
   ],
   "source": [
    "import torch\n",
    "\n",
    "torch.tensor(label)"
   ]
  },
  {
   "cell_type": "code",
   "execution_count": 57,
   "id": "ac8a2864-0d9c-4b72-8b7b-9c57d748cbeb",
   "metadata": {},
   "outputs": [],
   "source": [
    "def loop(indices):\n",
    "    indices, _ = indices\n",
    "\n",
    "    rows = pd.read_parquet('train-common-voice.parquet')\n",
    "    \n",
    "    filtered = []\n",
    "    for i in tqdm(indices):\n",
    "        s = rows.iloc[i]['sentence']\n",
    "        if not isinstance(s, str):\n",
    "            continue\n",
    "        if len(s) < 3:\n",
    "            continue\n",
    "        if len(set(s) & digits):\n",
    "            continue\n",
    "        filtered.append(rows.iloc[i].to_dict())\n",
    "    return filtered"
   ]
  },
  {
   "cell_type": "code",
   "execution_count": 55,
   "id": "d15af9de-f0e2-43b8-b674-2374bef5d823",
   "metadata": {},
   "outputs": [
    {
     "name": "stderr",
     "output_type": "stream",
     "text": [
      "100%|██████████| 100/100 [00:00<00:00, 3162.10it/s]\n"
     ]
    }
   ],
   "source": [
    "filtered = loop((range(100), 0))"
   ]
  },
  {
   "cell_type": "code",
   "execution_count": 58,
   "id": "7b511415-8320-4c25-ae0f-372a34e50e30",
   "metadata": {},
   "outputs": [
    {
     "name": "stderr",
     "output_type": "stream",
     "text": [
      "100%|██████████| 334477/334477 [00:58<00:00, 5740.76it/s] \n",
      "100%|██████████| 334477/334477 [00:53<00:00, 6205.09it/s] \n",
      "100%|██████████| 334477/334477 [00:57<00:00, 5816.36it/s] \n",
      "100%|██████████| 334477/334477 [00:55<00:00, 6000.63it/s] \n",
      "100%|██████████| 334477/334477 [00:54<00:00, 6134.66it/s] \n",
      "100%|██████████| 334477/334477 [00:54<00:00, 6193.13it/s] \n",
      "100%|██████████| 334477/334477 [00:55<00:00, 6049.01it/s] \n",
      "100%|██████████| 334477/334477 [00:53<00:00, 6204.85it/s] \n",
      "100%|██████████| 334477/334477 [00:54<00:00, 6136.69it/s] \n",
      "100%|██████████| 334477/334477 [00:53<00:00, 6293.79it/s] \n",
      "100%|██████████| 334477/334477 [00:53<00:00, 6269.93it/s] \n",
      "100%|██████████| 334477/334477 [00:54<00:00, 6191.85it/s] \n",
      "100%|██████████| 334477/334477 [00:55<00:00, 6046.37it/s] \n",
      "100%|██████████| 334477/334477 [00:52<00:00, 6358.25it/s] \n",
      "100%|██████████| 334477/334477 [00:53<00:00, 6310.41it/s] \n",
      "100%|██████████| 334477/334477 [00:52<00:00, 6393.52it/s] \n",
      "100%|██████████| 334477/334477 [00:53<00:00, 6200.35it/s] \n",
      "100%|██████████| 334477/334477 [00:51<00:00, 6468.51it/s] \n",
      "100%|██████████| 334477/334477 [00:54<00:00, 6132.03it/s] \n",
      "100%|██████████| 334477/334477 [00:54<00:00, 6126.55it/s] \n",
      "100%|██████████| 10/10 [00:00<00:00, 6127.54it/s]\n"
     ]
    }
   ],
   "source": [
    "filtered = multiprocessing(range(len(train)), loop, cores = 20)"
   ]
  },
  {
   "cell_type": "code",
   "execution_count": 59,
   "id": "64ac5dc9-d8dc-4331-925c-8014d3b52fb5",
   "metadata": {},
   "outputs": [
    {
     "data": {
      "text/plain": [
       "6688299"
      ]
     },
     "execution_count": 59,
     "metadata": {},
     "output_type": "execute_result"
    }
   ],
   "source": [
    "len(filtered)"
   ]
  },
  {
   "cell_type": "code",
   "execution_count": 62,
   "id": "c2677246-a189-40d0-af32-a3e4a9e86630",
   "metadata": {},
   "outputs": [],
   "source": [
    "pd.DataFrame(filtered).to_parquet('filtered-train-cv-17.parquet')"
   ]
  }
 ],
 "metadata": {
  "kernelspec": {
   "display_name": "Python 3 (ipykernel)",
   "language": "python",
   "name": "python3"
  },
  "language_info": {
   "codemirror_mode": {
    "name": "ipython",
    "version": 3
   },
   "file_extension": ".py",
   "mimetype": "text/x-python",
   "name": "python",
   "nbconvert_exporter": "python",
   "pygments_lexer": "ipython3",
   "version": "3.10.12"
  }
 },
 "nbformat": 4,
 "nbformat_minor": 5
}
