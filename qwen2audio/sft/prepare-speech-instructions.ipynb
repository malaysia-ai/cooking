{
 "cells": [
  {
   "cell_type": "code",
   "execution_count": 4,
   "id": "4fb9750b",
   "metadata": {},
   "outputs": [],
   "source": [
    "import json\n",
    "import pandas as pd\n",
    "import random\n",
    "import mp\n",
    "import os\n",
    "from glob import glob\n",
    "from tqdm import tqdm\n",
    "from transformers import AutoProcessor"
   ]
  },
  {
   "cell_type": "code",
   "execution_count": 5,
   "id": "4ad7fb97",
   "metadata": {},
   "outputs": [],
   "source": [
    "processor = AutoProcessor.from_pretrained(\"Qwen/Qwen2-Audio-7B-Instruct\")\n",
    "tokenizer = processor.tokenizer\n",
    "audio_token = \"<|AUDIO|>\"\n",
    "audio_bos_token = \"<|audio_bos|>\"\n",
    "audio_eos_token = \"<|audio_eos|>\"\n",
    "audio_token_id = processor.tokenizer._convert_token_to_id_with_added_voc('<|AUDIO|>')\n",
    "pad_token_id = processor.tokenizer.pad_token_id"
   ]
  },
  {
   "cell_type": "code",
   "execution_count": 2,
   "id": "6ef94a56",
   "metadata": {},
   "outputs": [
    {
     "data": {
      "text/plain": [
       "{'prompt': '[{\"role\": \"user\", \"content\": [{\"type\": \"audio\", \"audio_url\": \"audio.wav\"}]}, {\"role\": \"assistant\", \"content\": \"Untuk mengendalikan ralat pada laman web menggunakan JavaScript, anda boleh mengikuti langkah-langkah berikut:\\\\n\\\\n1. Gunakan try...catch: Salah satu cara untuk menangani ralat dalam JavaScript adalah dengan menggunakan blok try...catch. Blok try digunakan untuk menguji sebahagian kod yang mungkin menghasilkan ralat, manakala blok catch digunakan untuk menangkap dan memproses ralat yang ditangkap.\\\\n\\\\nContoh:\\\\n```javascript\\\\ntry {\\\\n  // Kod yang mungkin menghasilkan ralat\\\\n} catch (error) {\\\\n  // Tangani ralat di sini\\\\n}\\\\n```\\\\n\\\\n2. Gunakan onerror: anda juga boleh menggunakan acara onerror untuk menangani ralat yang berlaku semasa pemuatan dokumen atau skrip. Acara ini akan dipicu apabila terdapat ralat yang tidak ditangani.\\\\n\\\\nContoh:\\\\n```javascript\\\\nwindow.onerror = function(errorMessage, fileName, lineNumber) {\\\\n  // Tangani ralat di sini\\\\n};\\\\n```\\\\n\\\\n3. Gunakan console.error: anda boleh mencatat ralat ke konsol pengguna menggunakan fungsi console.error(). Ini berguna untuk tujuan debug.\\\\n\\\\nContoh:\\\\n```javascript\\\\nconsole.error(\\\\\"Ralat telah berlaku\\\\\");\\\\n```\\\\n\\\\n4. Gunakan throw: anda boleh mencipta ralat khusus dengan menggunakan kata kunci throw. Ini berguna jika anda ingin menghantar ralat tertentu apabila sesuatu keadaan berlaku.\\\\n\\\\nContoh:\\\\n```javascript\\\\nthrow \\\\\"Ralat khusus\\\\\";\\\\n```\\\\n\\\\n5. Gunakan Promise: Jika anda bekerja dengan operasi asinkron, anda boleh menggunakan Promise untuk menangani ralat.\\\\n\\\\nContoh:\\\\n```javascript\\\\nlet promise = new Promise((resolve, reject) => {\\\\n  // Operasi asinkron\\\\n});\\\\n\\\\npromise.then(result => {\\\\n  // Tangani hasil\\\\n}).catch(error => {\\\\n  // Tangani ralat\\\\n});\\\\n```\\\\n\\\\nIngatlah bahawa setiap ralat harus ditangani dengan betul supaya ia tidak mengganggu pengalaman pengguna. Selain itu, penting untuk mencatat ralat dengan betul supaya anda dapat memahami apa yang salah dan bagaimana untuk memperbaikinya.\"}]',\n",
       " 'question': 'Bagaimanakah kita boleh mengendalikan ralat pada laman web menggunakan JavaScript?',\n",
       " 'audio_filename': 'short-coding-2/0.mp3',\n",
       " 'dataset': 'short-coding',\n",
       " 'speaker': {'audio': 'dedup-others/00758-3_1.mp3',\n",
       "  'transcription': 'Fuh, mesti berpeluh habis tu. Haa, tapi apa yang jadi sebenarnya ni? Haa, kita dengarlah cerita babah ini.'}}"
      ]
     },
     "execution_count": 2,
     "metadata": {},
     "output_type": "execute_result"
    }
   ],
   "source": [
    "data = pd.read_parquet('/home/husein/ssd3/dataset/speech-instructions/speech-instructions.parquet').to_dict(orient = 'records')\n",
    "data[0]"
   ]
  },
  {
   "cell_type": "code",
   "execution_count": 14,
   "id": "b2a2d7d7",
   "metadata": {},
   "outputs": [],
   "source": [
    "def loop(rows):\n",
    "    rows, _ = rows\n",
    "    data = []\n",
    "    for r in tqdm(rows):\n",
    "        try:\n",
    "            conversation = json.loads(r['prompt'])\n",
    "            text = processor.apply_chat_template(conversation, tokenize=False)\n",
    "            f = r['audio_filename']\n",
    "            if 'dialects_processed' in f:\n",
    "                f = os.path.join('/home/husein/ssd3', f)\n",
    "            else:\n",
    "                f = os.path.join('/home/husein/ssd3/dataset/speech-instructions', f)\n",
    "\n",
    "            data.append({\n",
    "                'text': text,\n",
    "                'audio': f,\n",
    "            })\n",
    "        except:\n",
    "            pass\n",
    "    return data"
   ]
  },
  {
   "cell_type": "code",
   "execution_count": 15,
   "id": "935b3744",
   "metadata": {},
   "outputs": [
    {
     "name": "stderr",
     "output_type": "stream",
     "text": [
      "100%|███████████████████████████████████████████████████████████████████████████████████| 100/100 [00:00<00:00, 7129.65it/s]\n"
     ]
    }
   ],
   "source": [
    "processed = loop((data[:100], 0))"
   ]
  },
  {
   "cell_type": "code",
   "execution_count": 16,
   "id": "a4621282",
   "metadata": {},
   "outputs": [
    {
     "data": {
      "text/plain": [
       "{'text': '<|im_start|>system\\nYou are a helpful assistant.<|im_end|>\\n<|im_start|>user\\nAudio 1: <|audio_bos|><|AUDIO|><|audio_eos|>\\n<|im_end|>\\n<|im_start|>assistant\\nUntuk mengendalikan ralat pada laman web menggunakan JavaScript, anda boleh mengikuti langkah-langkah berikut:\\n\\n1. Gunakan try...catch: Salah satu cara untuk menangani ralat dalam JavaScript adalah dengan menggunakan blok try...catch. Blok try digunakan untuk menguji sebahagian kod yang mungkin menghasilkan ralat, manakala blok catch digunakan untuk menangkap dan memproses ralat yang ditangkap.\\n\\nContoh:\\n```javascript\\ntry {\\n  // Kod yang mungkin menghasilkan ralat\\n} catch (error) {\\n  // Tangani ralat di sini\\n}\\n```\\n\\n2. Gunakan onerror: anda juga boleh menggunakan acara onerror untuk menangani ralat yang berlaku semasa pemuatan dokumen atau skrip. Acara ini akan dipicu apabila terdapat ralat yang tidak ditangani.\\n\\nContoh:\\n```javascript\\nwindow.onerror = function(errorMessage, fileName, lineNumber) {\\n  // Tangani ralat di sini\\n};\\n```\\n\\n3. Gunakan console.error: anda boleh mencatat ralat ke konsol pengguna menggunakan fungsi console.error(). Ini berguna untuk tujuan debug.\\n\\nContoh:\\n```javascript\\nconsole.error(\"Ralat telah berlaku\");\\n```\\n\\n4. Gunakan throw: anda boleh mencipta ralat khusus dengan menggunakan kata kunci throw. Ini berguna jika anda ingin menghantar ralat tertentu apabila sesuatu keadaan berlaku.\\n\\nContoh:\\n```javascript\\nthrow \"Ralat khusus\";\\n```\\n\\n5. Gunakan Promise: Jika anda bekerja dengan operasi asinkron, anda boleh menggunakan Promise untuk menangani ralat.\\n\\nContoh:\\n```javascript\\nlet promise = new Promise((resolve, reject) => {\\n  // Operasi asinkron\\n});\\n\\npromise.then(result => {\\n  // Tangani hasil\\n}).catch(error => {\\n  // Tangani ralat\\n});\\n```\\n\\nIngatlah bahawa setiap ralat harus ditangani dengan betul supaya ia tidak mengganggu pengalaman pengguna. Selain itu, penting untuk mencatat ralat dengan betul supaya anda dapat memahami apa yang salah dan bagaimana untuk memperbaikinya.<|im_end|>\\n',\n",
       " 'audio': '/home/husein/ssd3/dataset/speech-instructions/short-coding-2/0.mp3'}"
      ]
     },
     "execution_count": 16,
     "metadata": {},
     "output_type": "execute_result"
    }
   ],
   "source": [
    "processed[0]"
   ]
  },
  {
   "cell_type": "code",
   "execution_count": 17,
   "id": "c6d7a07f",
   "metadata": {},
   "outputs": [
    {
     "name": "stderr",
     "output_type": "stream",
     "text": [
      "100%|███████████████████████████████████████████████████████████████████████████████| 46947/46947 [00:05<00:00, 8390.45it/s]\n",
      "100%|███████████████████████████████████████████████████████████████████████████████| 46947/46947 [00:05<00:00, 8001.64it/s]\n",
      "100%|███████████████████████████████████████████████████████████████████████████████| 46947/46947 [00:06<00:00, 6730.29it/s]\n",
      "100%|███████████████████████████████████████████████████████████████████████████████| 46947/46947 [00:06<00:00, 7334.79it/s]\n",
      "100%|███████████████████████████████████████████████████████████████████████████████| 46947/46947 [00:06<00:00, 7200.02it/s]\n",
      "100%|███████████████████████████████████████████████████████████████████████████████| 46947/46947 [00:06<00:00, 7803.30it/s]\n",
      "100%|███████████████████████████████████████████████████████████████████████████████████████| 7/7 [00:00<00:00, 3514.08it/s]\n",
      "100%|███████████████████████████████████████████████████████████████████████████████| 46947/46947 [00:06<00:00, 7326.02it/s]\n",
      "100%|███████████████████████████████████████████████████████████████████████████████| 46947/46947 [00:06<00:00, 7212.52it/s]\n",
      "100%|███████████████████████████████████████████████████████████████████████████████| 46947/46947 [00:06<00:00, 7566.10it/s]\n",
      "100%|███████████████████████████████████████████████████████████████████████████████| 46947/46947 [00:06<00:00, 6868.61it/s]\n"
     ]
    }
   ],
   "source": [
    "processed = mp.multiprocessing(data, loop, cores = 10)"
   ]
  },
  {
   "cell_type": "code",
   "execution_count": 18,
   "id": "2b0293bb",
   "metadata": {},
   "outputs": [
    {
     "data": {
      "text/plain": [
       "467010"
      ]
     },
     "execution_count": 18,
     "metadata": {},
     "output_type": "execute_result"
    }
   ],
   "source": [
    "len(processed)"
   ]
  },
  {
   "cell_type": "code",
   "execution_count": 21,
   "id": "8fe09ff5",
   "metadata": {},
   "outputs": [
    {
     "data": {
      "text/plain": [
       "{'text': '<|im_start|>system\\nYou are a helpful assistant.<|im_end|>\\n<|im_start|>user\\nAudio 1: <|audio_bos|><|AUDIO|><|audio_eos|>\\n<|im_end|>\\n<|im_start|>assistant\\nDalam Next.js, anda boleh menambahkan pengendalian ralat pada permintaan HTTP dengan menggunakan `try...catch` atau menggunakan perpustakaan seperti `axios` yang mempunyai fungsi pengendalian ralat bawaan. Berikut adalah contoh bagaimana anda boleh melakukannya:\\n\\n### Menggunakan try...catch\\n\\n```javascript\\nimport { useRouter } from \\'next/router\\';\\n\\nconst router = useRouter();\\n\\nasync function fetchData() {\\n  try {\\n    const response = await fetch(\\'https://api.example.com/data\\');\\n    const data = await response.json();\\n    // Lakukan sesuatu dengan data\\n  } catch (error) {\\n    console.error(\"Terjadi kesalahan:\", error);\\n    router.push(\\'/error-page\\'); // Alih ke halaman ralat\\n  }\\n}\\n\\nexport default function MyComponent() {\\n  fetchData();\\n  return (\\n    <div>\\n      {/* Kandungan komponen */}\\n    </div>\\n  );\\n}\\n```\\n\\n### Menggunakan Axios\\n\\nPertama, pastikan anda telah memasang Axios:\\n\\n```bash\\nnpm install axios\\n```\\n\\nKemudian, anda boleh menggunakannya dalam komponen anda seperti berikut:\\n\\n```javascript\\nimport axios from \\'axios\\';\\nimport { useRouter } from \\'next/router\\';\\n\\nconst router = useRouter();\\n\\nasync function fetchData() {\\n  try {\\n    const response = await axios.get(\\'https://api.example.com/data\\');\\n    // Lakukan sesuatu dengan data\\n  } catch (error) {\\n    console.error(\"Terjadi kesalahan:\", error);\\n    if (error.response) {\\n      // Jika terdapat respons dari pelayan, tetapkan status dan mesej ralat\\n      router.push(`/error-page?status=${error.response.status}&message=${error.response.data.message}`);\\n    } else {\\n      // Jika tiada respons, gunakan mesej ralat lalai\\n      router.push(\\'/error-page?status=500&message=An error occurred while fetching data.\\');\\n    }\\n  }\\n}\\n\\nexport default function MyComponent() {\\n  fetchData();\\n  return (\\n    <div>\\n      {/* Kandungan komponen */}\\n    </div>\\n  );\\n}\\n```\\n\\n### Menambahkan Halaman Ralat\\n\\nAnda perlu membuat halaman ralat di direktori `pages` untuk menangani halaman yang dipindahkan apabila terdapat kesalahan. Contohnya, anda boleh membuat halaman `error.js`:\\n\\n```javascript\\nimport Head from \\'next/head\\';\\nimport Link from \\'next/link\\';\\n\\nexport default function ErrorPage({ statusCode, message }) {\\n  return (\\n    <div>\\n      <Head>\\n        <title>Ralat - {statusCode}</title>\\n      </Head>\\n      <h1>{statusCode} - {message || \\'Ralat tidak diketahui\\'}</h1>\\n      <Link href=\"/\">\\n        <a>Back to Home</a>\\n      </Link>\\n    </div>\\n  );\\n}\\n\\nErrorPage.getInitialProps = ({ res, err }) => {\\n  const statusCode = res? res.statusCode : err? err.statusCode : 404;\\n  return { statusCode, message: err? err.message : undefined };\\n};\\n```\\n\\nDengan cara ini, jika terdapat kesalahan semasa melakukan permintaan HTTP, pengguna akan dialihkan ke halaman ralat dengan mesej yang sesuai. Pastikan anda menggantikan URL API dengan URL API sebenar yang anda gunakan.<|im_end|>\\n',\n",
       " 'audio': '/home/husein/ssd3/dataset/speech-instructions/short-coding-2/1102.mp3'}"
      ]
     },
     "execution_count": 21,
     "metadata": {},
     "output_type": "execute_result"
    }
   ],
   "source": [
    "processed[1000]"
   ]
  },
  {
   "cell_type": "code",
   "execution_count": 22,
   "id": "ff357b45",
   "metadata": {},
   "outputs": [],
   "source": [
    "with open('prepare-speech-instructions.json', 'w') as fopen:\n",
    "    json.dump(processed, fopen)"
   ]
  }
 ],
 "metadata": {
  "kernelspec": {
   "display_name": "python3.10",
   "language": "python",
   "name": "python3.10"
  },
  "language_info": {
   "codemirror_mode": {
    "name": "ipython",
    "version": 3
   },
   "file_extension": ".py",
   "mimetype": "text/x-python",
   "name": "python",
   "nbconvert_exporter": "python",
   "pygments_lexer": "ipython3",
   "version": "3.10.15"
  }
 },
 "nbformat": 4,
 "nbformat_minor": 5
}
