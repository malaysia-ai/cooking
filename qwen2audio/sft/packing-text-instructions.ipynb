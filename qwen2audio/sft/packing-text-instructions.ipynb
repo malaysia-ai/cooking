{
 "cells": [
  {
   "cell_type": "code",
   "execution_count": 10,
   "id": "acd2b827",
   "metadata": {},
   "outputs": [],
   "source": [
    "# !wget https://qianwen-res.oss-cn-beijing.aliyuncs.com/Qwen2-Audio/audio/guess_age_gender.wav\n",
    "# !wget https://huggingface.co/datasets/mesolitica/Malaysian-SFT/resolve/main/combine/combined-malaysian-sft-20k-sample.jsonl"
   ]
  },
  {
   "cell_type": "code",
   "execution_count": 12,
   "id": "c9e40ed9",
   "metadata": {},
   "outputs": [],
   "source": [
    "# !wget https://gist.githubusercontent.com/huseinzol05/98974ae8c6c7a65d4bc0af9f5003786a/raw/2e06e71ef7349a57bc58cc9913ae6bae1f9f8447/mp.py"
   ]
  },
  {
   "cell_type": "code",
   "execution_count": 2,
   "id": "1e6ea00c",
   "metadata": {},
   "outputs": [],
   "source": [
    "import os\n",
    "\n",
    "os.environ['HF_HOME'] = '/home/husein/ssd3'\n",
    "os.environ['CUDA_VISIBLE_DEVICES'] = ''"
   ]
  },
  {
   "cell_type": "code",
   "execution_count": 13,
   "id": "43818d85",
   "metadata": {},
   "outputs": [],
   "source": [
    "import librosa\n",
    "import torch\n",
    "import torch.nn as nn\n",
    "import pandas as pd\n",
    "from datasets import Audio\n",
    "from peft import LoraConfig, get_peft_model\n",
    "from transformers import AutoProcessor, Qwen2AudioForConditionalGeneration, AutoConfig, AutoModelForCausalLM\n",
    "from streaming import MDSWriter\n",
    "from streaming.base.format.mds.encodings import Encoding, _encodings\n",
    "from streaming import LocalDataset\n",
    "import streaming\n",
    "import numpy as np\n",
    "from tqdm import tqdm\n",
    "from glob import glob\n",
    "import os\n",
    "import json\n",
    "import mp\n",
    "\n",
    "class UInt32(Encoding):\n",
    "    def encode(self, obj) -> bytes:\n",
    "        return obj.tobytes()\n",
    "\n",
    "    def decode(self, data: bytes):\n",
    "        return np.frombuffer(data, np.uint32)\n",
    "\n",
    "_encodings['uint32'] = UInt32\n",
    "\n",
    "columns = {\n",
    "    'input_ids': 'uint32',\n",
    "    'position_ids': 'uint32',\n",
    "    'attention_mask': 'uint32',\n",
    "    'audio': 'str',\n",
    "    'text': 'str'\n",
    "}\n",
    "hashes = 'sha1', 'xxh64'"
   ]
  },
  {
   "cell_type": "code",
   "execution_count": 4,
   "id": "230691f5",
   "metadata": {},
   "outputs": [],
   "source": [
    "processor = AutoProcessor.from_pretrained(\"Qwen/Qwen2-Audio-7B-Instruct\")\n",
    "audio_token = \"<|AUDIO|>\"\n",
    "audio_bos_token = \"<|audio_bos|>\"\n",
    "audio_eos_token = \"<|audio_eos|>\"\n",
    "audio_token_id = processor.tokenizer._convert_token_to_id_with_added_voc('<|AUDIO|>')\n",
    "pad_token_id = processor.tokenizer.pad_token_id\n",
    "tokenizer = processor.tokenizer\n",
    "torch_dtype = torch.bfloat16\n",
    "min_dtype = torch.finfo(torch_dtype).min\n",
    "sequence_length = 4096"
   ]
  },
  {
   "cell_type": "code",
   "execution_count": 5,
   "id": "5baf5862",
   "metadata": {},
   "outputs": [
    {
     "data": {
      "text/plain": [
       "884949"
      ]
     },
     "execution_count": 5,
     "metadata": {},
     "output_type": "execute_result"
    }
   ],
   "source": [
    "combine = []\n",
    "with open('combined-malaysian-sft-20k-sample.jsonl') as fopen:\n",
    "    for l in fopen:\n",
    "        l = json.loads(l)\n",
    "        combine.append(l)\n",
    "\n",
    "len(combine)"
   ]
  },
  {
   "cell_type": "code",
   "execution_count": 6,
   "id": "fe7bca29",
   "metadata": {},
   "outputs": [],
   "source": [
    "import gc\n",
    "\n",
    "def collator(batch, batch_position_ids):\n",
    "    input_ids = []\n",
    "    position_ids = []\n",
    "    masks = []\n",
    "    for i in range(len(batch)):\n",
    "        l = len(batch[i])\n",
    "        input_ids.extend(batch[i])\n",
    "        position_ids.extend(batch_position_ids[i])\n",
    "        masks.append(l)\n",
    "    \n",
    "    return {\n",
    "        'input_ids': np.array(input_ids).astype(np.uint32),\n",
    "        'position_ids': np.array(position_ids).astype(np.uint32),\n",
    "        'attention_mask': np.array(masks).astype(np.uint32),\n",
    "        'audio': '',\n",
    "        'text': '',\n",
    "    }\n",
    "\n",
    "def slice_and_balance(nested_list, size):\n",
    "    first = []\n",
    "    balance = []\n",
    "    current_size = 0\n",
    "\n",
    "    for sublist in nested_list:\n",
    "        if current_size < size:\n",
    "            remaining_space = size - current_size\n",
    "            if len(sublist) <= remaining_space:\n",
    "                first.append(sublist)\n",
    "                current_size += len(sublist)\n",
    "            else:\n",
    "                first.append(sublist[:remaining_space])\n",
    "                balance.append(sublist[remaining_space:])\n",
    "                current_size = size\n",
    "        else:\n",
    "            balance.append(sublist)\n",
    "    \n",
    "    return first, balance"
   ]
  },
  {
   "cell_type": "code",
   "execution_count": 7,
   "id": "c379a779",
   "metadata": {},
   "outputs": [],
   "source": [
    "!mkdir tokenized-4k"
   ]
  },
  {
   "cell_type": "code",
   "execution_count": 8,
   "id": "41ad4a47",
   "metadata": {},
   "outputs": [],
   "source": [
    "import time\n",
    "\n",
    "def loop(files, block_size = sequence_length):\n",
    "    rows, index = files\n",
    "    out_root = f'tokenized-4k/tokenized-{index}'\n",
    "    os.system(f'rm -rf {out_root}')\n",
    "    count = 0\n",
    "    temp = []\n",
    "    position_ids = []\n",
    "    last_block, last_position_block = None, None\n",
    "    with MDSWriter(out=out_root, columns=columns, compression=None, hashes=hashes) as out:\n",
    "        for row in tqdm(rows):\n",
    "            prompt = tokenizer.apply_chat_template(row, tokenize=False)\n",
    "            outputs = tokenizer(prompt, add_special_tokens = False)\n",
    "            temp.append(outputs['input_ids'])\n",
    "            position_ids.append(range(len(outputs['input_ids'])))\n",
    "            count += len(outputs['input_ids'])\n",
    "            while count >= block_size:\n",
    "                block, temp = slice_and_balance(temp, block_size)\n",
    "                block_position, position_ids = slice_and_balance(position_ids, block_size)\n",
    "                count = count - block_size\n",
    "                o = collator(block, block_position)\n",
    "                last_block = block\n",
    "                last_position_block = block_position\n",
    "                out.write(o)\n",
    "                \n",
    "        block, _ = slice_and_balance(last_block, block_size - count)\n",
    "        block_position, _ = slice_and_balance(last_position_block, block_size - count)\n",
    "\n",
    "        block.extend(temp)\n",
    "        block_position.extend(position_ids)\n",
    "\n",
    "        o = collator(block, block_position)\n",
    "        if len(o['input_ids']) == block_size:\n",
    "            out.write(o)\n",
    "            return o"
   ]
  },
  {
   "cell_type": "code",
   "execution_count": 14,
   "id": "84d94015",
   "metadata": {},
   "outputs": [
    {
     "name": "stderr",
     "output_type": "stream",
     "text": [
      " 11%|█████████                                                                        | 5623/50000 [00:07<01:02, 709.43it/s]Token indices sequence length is longer than the specified maximum sequence length for this model (10352 > 8192). Running this sequence through the model will result in indexing errors\n",
      "100%|███████████████████████████████████████████████████████████████████████████████| 50000/50000 [00:24<00:00, 2065.95it/s]\n",
      "100%|███████████████████████████████████████████████████████████████████████████████| 50000/50000 [00:24<00:00, 2034.56it/s]\n",
      "100%|███████████████████████████████████████████████████████████████████████████████| 50000/50000 [00:37<00:00, 1335.10it/s]\n",
      "100%|████████████████████████████████████████████████████████████████████████████████| 50000/50000 [01:17<00:00, 645.69it/s]\n",
      "100%|████████████████████████████████████████████████████████████████████████████████| 50000/50000 [01:25<00:00, 582.98it/s]\n",
      "100%|████████████████████████████████████████████████████████████████████████████████| 50000/50000 [02:03<00:00, 405.62it/s]\n",
      "100%|████████████████████████████████████████████████████████████████████████████████| 50000/50000 [02:03<00:00, 405.10it/s]\n",
      " 31%|████████████████████████▌                                                       | 15324/50000 [01:37<03:34, 161.54it/s]Token indices sequence length is longer than the specified maximum sequence length for this model (9649 > 8192). Running this sequence through the model will result in indexing errors\n",
      " 16%|████████████▌                                                                    | 7758/50000 [00:51<05:03, 139.36it/s]Token indices sequence length is longer than the specified maximum sequence length for this model (8335 > 8192). Running this sequence through the model will result in indexing errors\n",
      "100%|████████████████████████████████████████████████████████████████████████████████| 50000/50000 [03:40<00:00, 226.75it/s]\n",
      "100%|████████████████████████████████████████████████████████████████████████████████| 50000/50000 [04:02<00:00, 205.92it/s]\n",
      "100%|████████████████████████████████████████████████████████████████████████████████| 50000/50000 [02:04<00:00, 400.60it/s]\n",
      "100%|████████████████████████████████████████████████████████████████████████████████| 50000/50000 [03:45<00:00, 221.47it/s]\n",
      "100%|████████████████████████████████████████████████████████████████████████████████| 50000/50000 [03:13<00:00, 258.33it/s]\n",
      "100%|████████████████████████████████████████████████████████████████████████████████| 50000/50000 [04:12<00:00, 198.10it/s]\n",
      "100%|████████████████████████████████████████████████████████████████████████████████| 50000/50000 [04:58<00:00, 167.78it/s]\n",
      "100%|████████████████████████████████████████████████████████████████████████████████| 34949/34949 [01:06<00:00, 528.26it/s]\n",
      "100%|████████████████████████████████████████████████████████████████████████████████| 50000/50000 [04:21<00:00, 191.10it/s]\n",
      "100%|████████████████████████████████████████████████████████████████████████████████| 50000/50000 [04:54<00:00, 169.68it/s]\n",
      "100%|████████████████████████████████████████████████████████████████████████████████| 50000/50000 [04:07<00:00, 201.95it/s]\n"
     ]
    }
   ],
   "source": [
    "from multiprocess import Pool\n",
    "import mp\n",
    "\n",
    "chunks = mp.chunks(combine, 50000)\n",
    "pool = Pool(10)\n",
    "pooled = pool.map(loop, chunks)\n",
    "pool.close()\n",
    "pool.join()"
   ]
  },
  {
   "cell_type": "code",
   "execution_count": 15,
   "id": "dadbed04",
   "metadata": {},
   "outputs": [
    {
     "data": {
      "text/plain": [
       "['tokenized-4k/tokenized-0',\n",
       " 'tokenized-4k/tokenized-1',\n",
       " 'tokenized-4k/tokenized-2',\n",
       " 'tokenized-4k/tokenized-3',\n",
       " 'tokenized-4k/tokenized-4',\n",
       " 'tokenized-4k/tokenized-5',\n",
       " 'tokenized-4k/tokenized-6',\n",
       " 'tokenized-4k/tokenized-7',\n",
       " 'tokenized-4k/tokenized-8',\n",
       " 'tokenized-4k/tokenized-9',\n",
       " 'tokenized-4k/tokenized-10',\n",
       " 'tokenized-4k/tokenized-11',\n",
       " 'tokenized-4k/tokenized-12',\n",
       " 'tokenized-4k/tokenized-13',\n",
       " 'tokenized-4k/tokenized-14',\n",
       " 'tokenized-4k/tokenized-15',\n",
       " 'tokenized-4k/tokenized-16',\n",
       " 'tokenized-4k/tokenized-17']"
      ]
     },
     "execution_count": 15,
     "metadata": {},
     "output_type": "execute_result"
    }
   ],
   "source": [
    "folders = sorted(glob('tokenized-4k/tokenized-*'), key = lambda x: int(x.split('-')[-1]))\n",
    "folders"
   ]
  }
 ],
 "metadata": {
  "kernelspec": {
   "display_name": "python3.10",
   "language": "python",
   "name": "python3.10"
  },
  "language_info": {
   "codemirror_mode": {
    "name": "ipython",
    "version": 3
   },
   "file_extension": ".py",
   "mimetype": "text/x-python",
   "name": "python",
   "nbconvert_exporter": "python",
   "pygments_lexer": "ipython3",
   "version": "3.10.15"
  }
 },
 "nbformat": 4,
 "nbformat_minor": 5
}
