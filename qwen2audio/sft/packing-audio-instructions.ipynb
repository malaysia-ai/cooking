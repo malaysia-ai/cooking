{
 "cells": [
  {
   "cell_type": "code",
   "execution_count": 1,
   "id": "12f79bed",
   "metadata": {},
   "outputs": [],
   "source": [
    "# !wget https://qianwen-res.oss-cn-beijing.aliyuncs.com/Qwen2-Audio/audio/guess_age_gender.wav\n",
    "# !wget https://huggingface.co/datasets/mesolitica/malaysian-youtube-audio-instructions/resolve/main/mixtral-audio-instruction.jsonl\n",
    "# !wget https://huggingface.co/datasets/mesolitica/Malaysian-SFT/resolve/main/combine/combined-malaysian-sft-20k-sample.jsonl"
   ]
  },
  {
   "cell_type": "code",
   "execution_count": 2,
   "id": "62834cb2",
   "metadata": {},
   "outputs": [],
   "source": [
    "import os\n",
    "\n",
    "os.environ['HF_HOME'] = '/home/husein/ssd3'\n",
    "os.environ['CUDA_VISIBLE_DEVICES'] = '2'"
   ]
  },
  {
   "cell_type": "code",
   "execution_count": 3,
   "id": "9d665f96",
   "metadata": {},
   "outputs": [],
   "source": [
    "# !wget https://raw.githubusercontent.com/mesolitica/malaysian-dataset/refs/heads/master/llm-instruction/malaysian-sft/malaysian_sft.py"
   ]
  },
  {
   "cell_type": "code",
   "execution_count": 4,
   "id": "7643236d",
   "metadata": {},
   "outputs": [],
   "source": [
    "import librosa\n",
    "import torch\n",
    "import torch.nn as nn\n",
    "import pandas as pd\n",
    "from datasets import Audio\n",
    "from peft import LoraConfig, get_peft_model\n",
    "from transformers import AutoProcessor, Qwen2AudioForConditionalGeneration, AutoConfig, AutoModelForCausalLM\n",
    "from streaming import MDSWriter\n",
    "from streaming.base.format.mds.encodings import Encoding, _encodings\n",
    "from streaming import LocalDataset\n",
    "from malaysian_sft import accept\n",
    "import streaming\n",
    "import numpy as np\n",
    "from tqdm import tqdm\n",
    "from glob import glob\n",
    "import os\n",
    "import json\n",
    "import math\n",
    "\n",
    "class UInt32(Encoding):\n",
    "    def encode(self, obj) -> bytes:\n",
    "        return obj.tobytes()\n",
    "\n",
    "    def decode(self, data: bytes):\n",
    "        return np.frombuffer(data, np.uint32)\n",
    "\n",
    "_encodings['uint32'] = UInt32\n",
    "\n",
    "columns = {\n",
    "    'input_ids': 'uint32',\n",
    "    'position_ids': 'uint32',\n",
    "    'attention_mask': 'uint32',\n",
    "    'audio': 'str',\n",
    "    'text': 'str'\n",
    "}\n",
    "hashes = 'sha1', 'xxh64'"
   ]
  },
  {
   "cell_type": "code",
   "execution_count": 5,
   "id": "ff78d05a",
   "metadata": {},
   "outputs": [],
   "source": [
    "audio_class = Audio(sampling_rate=16000)\n",
    "processor = AutoProcessor.from_pretrained(\"Qwen/Qwen2-Audio-7B-Instruct\")\n",
    "tokenizer = processor.tokenizer\n",
    "audio_token = \"<|AUDIO|>\"\n",
    "audio_bos_token = \"<|audio_bos|>\"\n",
    "audio_eos_token = \"<|audio_eos|>\"\n",
    "audio_token_id = processor.tokenizer._convert_token_to_id_with_added_voc('<|AUDIO|>')\n",
    "pad_token_id = processor.tokenizer.pad_token_id\n",
    "torch_dtype = torch.bfloat16\n",
    "min_dtype = torch.finfo(torch_dtype).min\n",
    "sequence_length = 4096"
   ]
  },
  {
   "cell_type": "code",
   "execution_count": 6,
   "id": "3d8806d2",
   "metadata": {},
   "outputs": [
    {
     "data": {
      "text/plain": [
       "160"
      ]
     },
     "execution_count": 6,
     "metadata": {},
     "output_type": "execute_result"
    }
   ],
   "source": [
    "processor.feature_extractor.hop_length"
   ]
  },
  {
   "cell_type": "code",
   "execution_count": 7,
   "id": "03dfc9ff",
   "metadata": {},
   "outputs": [],
   "source": [
    "# data = []\n",
    "# df = pd.read_parquet('sample_filtered_gpt_omni-00000-of-00001.parquet')\n",
    "# for i in tqdm(range(len(df))):\n",
    "#     conversation = [\n",
    "#         {\"role\": \"system\", \"content\": df.iloc[i]['system']},\n",
    "#         {\"role\": \"user\", \"content\": [\n",
    "#             {\"type\": \"audio\", \"audio_url\": df.iloc[i]['sliced_audio_filename']},\n",
    "#         ]},\n",
    "#         {\"role\": \"assistant\", \"content\": df.iloc[i]['answer']},\n",
    "#     ]\n",
    "#     text = processor.apply_chat_template(conversation, tokenize=False)\n",
    "#     data.append({\n",
    "#         'text': text,\n",
    "#         'audio': df.iloc[i]['sliced_audio_filename'],\n",
    "#     })\n",
    "    \n",
    "# df = pd.read_parquet('random_question_chunks-00000-of-00001.parquet')\n",
    "# for i in tqdm(range(len(df))):\n",
    "#     conversation = [\n",
    "#         {\"role\": \"system\", \"content\": df.iloc[i]['system']},\n",
    "#         {\"role\": \"user\", \"content\": [\n",
    "#             {\"type\": \"audio\", \"audio_url\": df.iloc[i]['sliced_audio_filename']},\n",
    "#         ]},\n",
    "#         {\"role\": \"assistant\", \"content\": df.iloc[i]['answer']},\n",
    "#     ]\n",
    "#     text = processor.apply_chat_template(conversation, tokenize=False)\n",
    "#     data.append({\n",
    "#         'text': text,\n",
    "#         'audio': df.iloc[i]['sliced_audio_filename'],\n",
    "#     })\n",
    "\n",
    "# with open('prepare-mixtral-audio-instruction.json') as fopen:\n",
    "#     mixtral = json.load(fopen)\n",
    "    \n",
    "# for row in tqdm(mixtral):\n",
    "#     conversation = [\n",
    "#         {\"role\": \"system\", \"content\": row['system']},\n",
    "#         {\"role\": \"user\", \"content\": [\n",
    "#             {\"type\": \"audio\", \"audio_url\": row['audio']},\n",
    "#             {\"type\": \"text\", \"text\": row['question']},\n",
    "#         ]},\n",
    "#         {\"role\": \"assistant\", \"content\": row['answer']},\n",
    "#     ]\n",
    "#     text = processor.apply_chat_template(conversation, tokenize=False)\n",
    "#     data.append({\n",
    "#         'text': text,\n",
    "#         'audio': row['audio'],\n",
    "#     })\n",
    "\n",
    "# with open('processed.json', 'w') as fopen:\n",
    "#     json.dump(data, fopen)"
   ]
  },
  {
   "cell_type": "code",
   "execution_count": 8,
   "id": "bac749cb",
   "metadata": {},
   "outputs": [],
   "source": [
    "with open('processed.json') as fopen:\n",
    "    data = json.load(fopen)"
   ]
  },
  {
   "cell_type": "code",
   "execution_count": 9,
   "id": "86fb805d",
   "metadata": {},
   "outputs": [],
   "source": [
    "from datasets import Audio\n",
    "\n",
    "def collator(batch, batch_position_ids, audio):\n",
    "    input_ids = []\n",
    "    position_ids = []\n",
    "    masks = []\n",
    "    for i in range(len(batch)):\n",
    "        l = len(batch[i])\n",
    "        input_ids.extend(batch[i])\n",
    "        position_ids.extend(batch_position_ids[i])\n",
    "        masks.append(l)\n",
    "        \n",
    "    input_ids = input_ids + [pad_token_id] * (sequence_length - len(input_ids))\n",
    "    position_ids = position_ids + [0] * (sequence_length - len(position_ids))\n",
    "    \n",
    "    return {\n",
    "        'input_ids': np.array(input_ids).astype(np.uint32),\n",
    "        'position_ids': np.array(position_ids).astype(np.uint32),\n",
    "        'attention_mask': np.array(masks).astype(np.uint32),\n",
    "        'audio': json.dumps(audio),\n",
    "        'text': '',\n",
    "    }\n",
    "\n",
    "def get_new_token(f, sample):\n",
    "\n",
    "    audio_ = audio_class.decode_example(audio_class.encode_example(f))['array']\n",
    "\n",
    "#     inputs_audio = processor.feature_extractor(\n",
    "#         [audio_], \n",
    "#         return_attention_mask=True, \n",
    "#         padding=\"max_length\", \n",
    "#         sampling_rate=16000,\n",
    "#         return_tensors = 'pt'\n",
    "#     )\n",
    "    audio_lengths = [math.ceil(len(audio_) / processor.feature_extractor.hop_length)]\n",
    "\n",
    "    num_audio_tokens = sample.count(audio_token)\n",
    "    replace_str = []\n",
    "    while audio_token in sample:\n",
    "        audio_length = audio_lengths.pop(0)\n",
    "        input_length = (audio_length - 1) // 2 + 1\n",
    "        num_audio_tokens = (input_length - 2) // 2 + 1\n",
    "\n",
    "        expanded_audio_token = audio_token * num_audio_tokens\n",
    "\n",
    "        audio_token_start_idx = sample.find(audio_token)\n",
    "        audio_token_end_idx = audio_token_start_idx + len(audio_token)\n",
    "\n",
    "        has_bos = (\n",
    "            sample[audio_token_start_idx - len(audio_bos_token) : audio_token_start_idx]\n",
    "            == audio_bos_token\n",
    "        )\n",
    "        has_eos = (\n",
    "            sample[audio_token_end_idx : audio_token_end_idx + len(audio_eos_token)]\n",
    "            == audio_eos_token\n",
    "        )\n",
    "\n",
    "        if not has_bos and not has_eos:\n",
    "            expanded_audio_token = audio_bos_token + expanded_audio_token + audio_eos_token\n",
    "\n",
    "        replace_str.append(expanded_audio_token)\n",
    "        sample = sample.replace(audio_token, \"<placeholder>\", 1)\n",
    "\n",
    "    while \"<placeholder>\" in sample:\n",
    "        sample = sample.replace(\"<placeholder>\", replace_str.pop(0), 1)\n",
    "    \n",
    "    return sample"
   ]
  },
  {
   "cell_type": "code",
   "execution_count": 10,
   "id": "8c242bdc",
   "metadata": {
    "scrolled": true
   },
   "outputs": [],
   "source": [
    "!rm -rf tokenized-audio-4096\n",
    "!mkdir tokenized-audio-4096"
   ]
  },
  {
   "cell_type": "code",
   "execution_count": 11,
   "id": "83c08e75",
   "metadata": {},
   "outputs": [],
   "source": [
    "import time\n",
    "\n",
    "def loop(files, block_size = sequence_length):\n",
    "    rows, index = files\n",
    "    out_root = f'tokenized-audio-4096/tokenized-{index}'\n",
    "    os.system(f'rm -rf {out_root}')\n",
    "    count = 0\n",
    "    temp = []\n",
    "    position_ids = []\n",
    "    audio = []\n",
    "    with MDSWriter(out=out_root, columns=columns, compression=None, hashes=hashes) as out:\n",
    "        for row in tqdm(rows, desc=f'loop {index}'):\n",
    "            prompt = get_new_token(row['audio'], row['text'])\n",
    "            outputs = tokenizer(prompt, add_special_tokens = False)\n",
    "            length = len(outputs['input_ids'])\n",
    "            if length > block_size:\n",
    "                continue\n",
    "            \n",
    "            if count + length > block_size:\n",
    "                o = collator(temp, position_ids, audio)\n",
    "                out.write(o)\n",
    "                temp = [outputs['input_ids']]\n",
    "                position_ids = [range(len(outputs['input_ids']))]\n",
    "                audio = [row['audio']]\n",
    "                count = length\n",
    "            \n",
    "            else:\n",
    "                temp.append(outputs['input_ids'])\n",
    "                position_ids.append(range(len(outputs['input_ids'])))\n",
    "                audio.append(row['audio'])\n",
    "                count += length\n",
    "        \n",
    "        if len(temp):\n",
    "            o = collator(temp, position_ids, audio)\n",
    "            out.write(o)\n",
    "    return [1]"
   ]
  },
  {
   "cell_type": "code",
   "execution_count": 12,
   "id": "1a56643c",
   "metadata": {
    "scrolled": true
   },
   "outputs": [],
   "source": [
    "# loop((data, 0))"
   ]
  },
  {
   "cell_type": "code",
   "execution_count": 13,
   "id": "69ee2f01",
   "metadata": {
    "scrolled": true
   },
   "outputs": [
    {
     "name": "stderr",
     "output_type": "stream",
     "text": [
      "loop 4:   3%|██▏                                                                         | 569/20000 [00:04<01:48, 178.56it/s]Token indices sequence length is longer than the specified maximum sequence length for this model (9548 > 8192). Running this sequence through the model will result in indexing errors\n",
      "loop 2:   4%|███                                                                         | 818/20000 [00:05<01:54, 167.29it/s]Token indices sequence length is longer than the specified maximum sequence length for this model (8195 > 8192). Running this sequence through the model will result in indexing errors\n",
      "loop 8:   3%|██▍                                                                         | 625/20000 [00:05<02:11, 147.28it/s]Token indices sequence length is longer than the specified maximum sequence length for this model (10274 > 8192). Running this sequence through the model will result in indexing errors\n",
      "loop 0:  20%|██████████████▋                                                            | 3927/20000 [00:10<00:36, 443.17it/s]Token indices sequence length is longer than the specified maximum sequence length for this model (10318 > 8192). Running this sequence through the model will result in indexing errors\n",
      "loop 2:   8%|█████▋                                                                     | 1504/20000 [00:10<02:07, 144.61it/s]Token indices sequence length is longer than the specified maximum sequence length for this model (10176 > 8192). Running this sequence through the model will result in indexing errors\n",
      "loop 4:  35%|██████████████████████████                                                 | 6939/20000 [00:42<01:12, 180.12it/s]Token indices sequence length is longer than the specified maximum sequence length for this model (10240 > 8192). Running this sequence through the model will result in indexing errors\n",
      "loop 0: 100%|██████████████████████████████████████████████████████████████████████████| 20000/20000 [01:24<00:00, 235.70it/s]\n",
      "loop 5: 100%|██████████████████████████████████████████████████████████████████████████| 20000/20000 [01:42<00:00, 194.82it/s]\n",
      "loop 7: 100%|██████████████████████████████████████████████████████████████████████████| 20000/20000 [01:42<00:00, 194.97it/s]\n",
      "loop 6: 100%|██████████████████████████████████████████████████████████████████████████| 20000/20000 [01:42<00:00, 194.24it/s]\n",
      "loop 3: 100%|██████████████████████████████████████████████████████████████████████████| 20000/20000 [02:04<00:00, 160.36it/s]\n",
      "loop 2: 100%|██████████████████████████████████████████████████████████████████████████| 20000/20000 [02:10<00:00, 153.72it/s]\n",
      "loop 4: 100%|██████████████████████████████████████████████████████████████████████████| 20000/20000 [02:09<00:00, 154.10it/s]\n",
      "loop 1: 100%|██████████████████████████████████████████████████████████████████████████| 20000/20000 [02:10<00:00, 152.79it/s]\n",
      "loop 15:   1%|▉                                                                           | 257/20000 [00:03<04:28, 73.45it/s]\n",
      "loop 9: 100%|███████████████████████████████████████████████████████████████████████████| 20000/20000 [03:54<00:00, 85.27it/s]\n",
      "loop 17: 100%|██████████████████████████████████████████████████████████████████████████| 16331/16331 [03:01<00:00, 89.75it/s]\n",
      "loop 10: 100%|██████████████████████████████████████████████████████████████████████████| 20000/20000 [03:48<00:00, 87.35it/s]\n",
      "loop 11: 100%|██████████████████████████████████████████████████████████████████████████| 20000/20000 [03:43<00:00, 89.63it/s]\n",
      "loop 12: 100%|██████████████████████████████████████████████████████████████████████████| 20000/20000 [03:42<00:00, 89.74it/s]\n",
      "loop 13: 100%|██████████████████████████████████████████████████████████████████████████| 20000/20000 [03:43<00:00, 89.33it/s]\n",
      "loop 14: 100%|██████████████████████████████████████████████████████████████████████████| 20000/20000 [03:34<00:00, 93.07it/s]\n",
      "loop 16: 100%|██████████████████████████████████████████████████████████████████████████| 20000/20000 [03:31<00:00, 94.68it/s]\n",
      "loop 15: 100%|██████████████████████████████████████████████████████████████████████████| 20000/20000 [03:33<00:00, 93.66it/s]\n"
     ]
    }
   ],
   "source": [
    "from multiprocess import Pool\n",
    "import mp\n",
    "\n",
    "chunks = mp.chunks(data, 20000)\n",
    "pool = Pool(10)\n",
    "pooled = pool.map(loop, chunks)\n",
    "pool.close()\n",
    "pool.join()"
   ]
  },
  {
   "cell_type": "code",
   "execution_count": 14,
   "id": "f580cac2",
   "metadata": {
    "scrolled": true
   },
   "outputs": [
    {
     "data": {
      "text/plain": [
       "36"
      ]
     },
     "execution_count": 14,
     "metadata": {},
     "output_type": "execute_result"
    }
   ],
   "source": [
    "folders = glob('tokenized-audio-4096/tokenized-*') + glob('tokenized-4k/tokenized-*')\n",
    "len(folders)"
   ]
  },
  {
   "cell_type": "code",
   "execution_count": 15,
   "id": "c61e275a",
   "metadata": {},
   "outputs": [],
   "source": [
    "!rm -rf packing-4k"
   ]
  },
  {
   "cell_type": "code",
   "execution_count": 16,
   "id": "e1040fef",
   "metadata": {},
   "outputs": [
    {
     "name": "stderr",
     "output_type": "stream",
     "text": [
      "100%|██████████████████████████████████████████████████████████████████████████████████| 6527/6527 [00:00<00:00, 12643.34it/s]\n",
      "100%|██████████████████████████████████████████████████████████████████████████████████| 6445/6445 [00:00<00:00, 14077.51it/s]\n",
      "100%|██████████████████████████████████████████████████████████████████████████████████| 5199/5199 [00:00<00:00, 15915.41it/s]\n",
      "100%|██████████████████████████████████████████████████████████████████████████████████| 6440/6440 [00:00<00:00, 11475.94it/s]\n",
      "100%|██████████████████████████████████████████████████████████████████████████████████| 1436/1436 [00:00<00:00, 32710.87it/s]\n",
      "100%|██████████████████████████████████████████████████████████████████████████████████| 1597/1597 [00:00<00:00, 10320.94it/s]\n",
      "100%|███████████████████████████████████████████████████████████████████████████████████| 1277/1277 [00:00<00:00, 8753.60it/s]\n",
      "100%|██████████████████████████████████████████████████████████████████████████████████| 6434/6434 [00:00<00:00, 13743.32it/s]\n",
      "100%|██████████████████████████████████████████████████████████████████████████████████| 6390/6390 [00:00<00:00, 13511.40it/s]\n",
      "100%|██████████████████████████████████████████████████████████████████████████████████| 2791/2791 [00:00<00:00, 15167.36it/s]\n",
      "100%|██████████████████████████████████████████████████████████████████████████████████| 1996/1996 [00:00<00:00, 12139.26it/s]\n",
      "100%|███████████████████████████████████████████████████████████████████████████████████| 1278/1278 [00:00<00:00, 9190.86it/s]\n",
      "100%|██████████████████████████████████████████████████████████████████████████████████| 6461/6461 [00:00<00:00, 14067.41it/s]\n",
      "100%|██████████████████████████████████████████████████████████████████████████████████| 6541/6541 [00:00<00:00, 13818.66it/s]\n",
      "100%|██████████████████████████████████████████████████████████████████████████████████| 1985/1985 [00:00<00:00, 11914.22it/s]\n",
      "100%|██████████████████████████████████████████████████████████████████████████████████| 6394/6394 [00:00<00:00, 11262.74it/s]\n",
      "100%|██████████████████████████████████████████████████████████████████████████████████| 2000/2000 [00:00<00:00, 12250.83it/s]\n",
      "100%|██████████████████████████████████████████████████████████████████████████████████| 1596/1596 [00:00<00:00, 32914.29it/s]\n",
      "100%|███████████████████████████████████████████████████████████████████████████████████| 8899/8899 [00:00<00:00, 9067.24it/s]\n",
      "100%|████████████████████████████████████████████████████████████████████████████████| 10288/10288 [00:01<00:00, 10157.47it/s]\n",
      "100%|██████████████████████████████████████████████████████████████████████████████████| 3630/3630 [00:00<00:00, 13410.20it/s]\n",
      "100%|███████████████████████████████████████████████████████████████████████████████████| 6090/6090 [00:00<00:00, 9379.70it/s]\n",
      "100%|███████████████████████████████████████████████████████████████████████████████████| 7390/7390 [00:01<00:00, 6282.03it/s]\n",
      "100%|███████████████████████████████████████████████████████████████████████████████████| 4046/4046 [00:00<00:00, 9791.33it/s]\n",
      "100%|██████████████████████████████████████████████████████████████████████████████████| 5253/5253 [00:00<00:00, 10433.86it/s]\n",
      "100%|█████████████████████████████████████████████████████████████████████████████████| 12469/12469 [00:01<00:00, 9459.53it/s]\n",
      "100%|████████████████████████████████████████████████████████████████████████████████| 10850/10850 [00:01<00:00, 10073.06it/s]\n",
      "100%|███████████████████████████████████████████████████████████████████████████████████| 8371/8371 [00:00<00:00, 9945.96it/s]\n",
      "100%|███████████████████████████████████████████████████████████████████████████████████| 1402/1402 [00:00<00:00, 8531.04it/s]\n",
      "100%|████████████████████████████████████████████████████████████████████████████████| 15367/15367 [00:01<00:00, 10931.86it/s]\n",
      "100%|█████████████████████████████████████████████████████████████████████████████████| 15427/15427 [00:01<00:00, 9664.83it/s]\n",
      "100%|████████████████████████████████████████████████████████████████████████████████| 13322/13322 [00:01<00:00, 10074.98it/s]\n",
      "100%|███████████████████████████████████████████████████████████████████████████████████| 1396/1396 [00:00<00:00, 8661.05it/s]\n",
      "100%|██████████████████████████████████████████████████████████████████████████████████| 9205/9205 [00:00<00:00, 10335.36it/s]\n",
      "100%|██████████████████████████████████████████████████████████████████████████████████| 2078/2078 [00:00<00:00, 10381.61it/s]\n",
      "100%|█████████████████████████████████████████████████████████████████████████████████| 18664/18664 [00:01<00:00, 9956.85it/s]\n"
     ]
    }
   ],
   "source": [
    "with MDSWriter(out='packing-4k', columns=columns, compression=None, hashes=hashes) as out:\n",
    "    for f in folders:\n",
    "        try:\n",
    "            dataset = LocalDataset(local=f)\n",
    "            for i in tqdm(range(len(dataset))):\n",
    "                out.write(dataset[i])\n",
    "        except Exception as e:\n",
    "            print(e)\n",
    "            pass"
   ]
  },
  {
   "cell_type": "code",
   "execution_count": 17,
   "id": "817e6e9f",
   "metadata": {},
   "outputs": [],
   "source": [
    "import torch.nn.functional as F\n",
    "\n",
    "def block_diagonal_concat_inverted(*masks, dtype=torch.bfloat16):\n",
    "    total_size = sum(mask.size(0) for mask in masks)\n",
    "    combined_mask = torch.zeros(total_size, total_size, dtype=dtype)\n",
    "\n",
    "    current_pos = 0\n",
    "\n",
    "    for mask in masks:\n",
    "        size = mask.size(0)\n",
    "        combined_mask[current_pos:current_pos + size, current_pos:current_pos + size] = mask\n",
    "        current_pos += size\n",
    "\n",
    "    min_value = torch.finfo(dtype).min if dtype.is_floating_point else torch.iinfo(dtype).min\n",
    "    inverted_mask = torch.where(combined_mask == 1, torch.tensor(0, dtype=dtype), min_value)\n",
    "    return inverted_mask.unsqueeze(0)\n",
    "\n",
    "def pad_attention_mask_4d(attention_mask, max_size = 4096):\n",
    "    maxlen_right = max_size\n",
    "    maxlen_bottom = max_size\n",
    "    attention_mask = [\n",
    "        F.pad(\n",
    "            attention_mask[i],\n",
    "            (0, maxlen_right - attention_mask[i].shape[-2], 0, maxlen_bottom - attention_mask[i].shape[-1])) for i in range(\n",
    "            len(attention_mask))]\n",
    "    return torch.stack(attention_mask)"
   ]
  },
  {
   "cell_type": "code",
   "execution_count": 18,
   "id": "64735415",
   "metadata": {},
   "outputs": [],
   "source": [
    "def collator(batch):\n",
    "    batch = [b for b in batch if b is not None] \n",
    "    input_ids, attention_mask, position_ids, labels = [], [], [], []\n",
    "    input_features, feature_attention_mask = [], []\n",
    "\n",
    "    for b in batch:\n",
    "        if 'input_features' in b:\n",
    "            input_features.append(b['input_features'])\n",
    "            feature_attention_mask.append(b['feature_attention_mask'])\n",
    "        input_ids.append(b['input_ids'][None])\n",
    "        attention_mask.append(b['attention_mask'])\n",
    "        position_ids.append(b['position_ids'][None])\n",
    "        labels.append(b['labels'][None])\n",
    "\n",
    "    input_ids = {\n",
    "        'input_ids': torch.concat(input_ids, 0),\n",
    "        'attention_mask': pad_attention_mask_4d(attention_mask, sequence_length),\n",
    "        'position_ids': torch.concat(position_ids, 0),\n",
    "        'labels': torch.concat(labels, 0),\n",
    "    }\n",
    "    if len(input_features):\n",
    "        input_ids['input_features'] = torch.concat(input_features, 0)\n",
    "        input_ids['feature_attention_mask'] = torch.concat(feature_attention_mask, 0)\n",
    "\n",
    "    return input_ids"
   ]
  },
  {
   "cell_type": "code",
   "execution_count": 42,
   "id": "588721cf",
   "metadata": {},
   "outputs": [],
   "source": [
    "class DatasetFixed(torch.utils.data.Dataset):\n",
    "    def __init__(self, local):\n",
    "        self.dataset = LocalDataset(local=local)\n",
    "        self.audio = Audio(sampling_rate=16000)\n",
    "\n",
    "    def __getitem__(self, idx):\n",
    "        data = self.dataset[idx]\n",
    "        try:\n",
    "            data.pop('text', None)\n",
    "            audio_files = data.pop('audio', '')\n",
    "            data['labels'] = data[\"input_ids\"].copy()\n",
    "            masking = data.pop('attention_mask')\n",
    "\n",
    "            data.pop('token_type_ids', None)\n",
    "            for k in data.keys():\n",
    "                data[k] = torch.tensor(data[k].astype(np.int64))\n",
    "\n",
    "            masks = []\n",
    "            for m in masking:\n",
    "                masks.append(torch.tril(torch.ones(m, m)))\n",
    "            attention_mask = block_diagonal_concat_inverted(*masks)\n",
    "            data['attention_mask'] = attention_mask\n",
    "\n",
    "            data['labels'][data['labels'] == audio_token_id] = -100\n",
    "            data['labels'][data['labels'] == pad_token_id] = -100\n",
    "\n",
    "            if len(audio_files):\n",
    "                files = json.loads(audio_files)\n",
    "                print(files)\n",
    "                audios = []\n",
    "                for f in files:\n",
    "                    audio = self.audio.decode_example(\n",
    "                    self.audio.encode_example(f))['array']\n",
    "                    audios.append(audio)\n",
    "\n",
    "                inputs_audio = processor.feature_extractor(\n",
    "                    audios, return_attention_mask=True, \n",
    "                    sampling_rate=16000,\n",
    "                    padding=\"max_length\", return_tensors = 'pt')\n",
    "\n",
    "                data['input_features'] = inputs_audio['input_features']\n",
    "                data['feature_attention_mask'] = inputs_audio['attention_mask']\n",
    "                \n",
    "            return data\n",
    "\n",
    "        except Exception as e:\n",
    "            print('Exception', e)\n",
    "            return None\n",
    "\n",
    "    def __len__(self):\n",
    "        return len(self.dataset)"
   ]
  },
  {
   "cell_type": "code",
   "execution_count": 43,
   "id": "bc76f64a",
   "metadata": {},
   "outputs": [],
   "source": [
    "dataset = DatasetFixed('packing-4k')"
   ]
  },
  {
   "cell_type": "code",
   "execution_count": 58,
   "id": "091f93d7",
   "metadata": {},
   "outputs": [
    {
     "name": "stdout",
     "output_type": "stream",
     "text": [
      "['filter-audio/3-3061-34.mp3', 'filter-audio/3-3061-34.mp3']\n"
     ]
    }
   ],
   "source": [
    "batch = [dataset[0], dataset[-1]]"
   ]
  },
  {
   "cell_type": "code",
   "execution_count": 60,
   "id": "5e782a24",
   "metadata": {},
   "outputs": [
    {
     "data": {
      "text/plain": [
       "tensor([[1, 1, 1,  ..., 1, 1, 1],\n",
       "        [1, 1, 1,  ..., 1, 1, 1]], dtype=torch.int32)"
      ]
     },
     "execution_count": 60,
     "metadata": {},
     "output_type": "execute_result"
    }
   ],
   "source": [
    "b = collator(batch)\n",
    "b['feature_attention_mask']"
   ]
  },
  {
   "cell_type": "code",
   "execution_count": 61,
   "id": "90b9e61d",
   "metadata": {},
   "outputs": [
    {
     "data": {
      "text/plain": [
       "tensor(6000)"
      ]
     },
     "execution_count": 61,
     "metadata": {},
     "output_type": "execute_result"
    }
   ],
   "source": [
    "b['feature_attention_mask'].sum()"
   ]
  },
  {
   "cell_type": "code",
   "execution_count": 62,
   "id": "9c689e8c",
   "metadata": {
    "scrolled": true
   },
   "outputs": [
    {
     "data": {
      "text/plain": [
       "1500"
      ]
     },
     "execution_count": 62,
     "metadata": {},
     "output_type": "execute_result"
    }
   ],
   "source": [
    "(3000 - 1) // 2 + 1"
   ]
  },
  {
   "cell_type": "code",
   "execution_count": 56,
   "id": "01461d2b",
   "metadata": {},
   "outputs": [
    {
     "name": "stdout",
     "output_type": "stream",
     "text": [
      "7.0G\tpacking-4k\r\n"
     ]
    }
   ],
   "source": [
    "!du -hs packing-4k"
   ]
  },
  {
   "cell_type": "code",
   "execution_count": 57,
   "id": "1d6f60f5",
   "metadata": {},
   "outputs": [
    {
     "data": {
      "application/vnd.jupyter.widget-view+json": {
       "model_id": "9d0e3ab3ffcd4b42a3fbe76c681d5267",
       "version_major": 2,
       "version_minor": 0
      },
      "text/plain": [
       "shard.00000.mds:   0%|          | 0.00/67.1M [00:00<?, ?B/s]"
      ]
     },
     "metadata": {},
     "output_type": "display_data"
    },
    {
     "data": {
      "application/vnd.jupyter.widget-view+json": {
       "model_id": "a89ca1e2b80941359cd36b106caa3725",
       "version_major": 2,
       "version_minor": 0
      },
      "text/plain": [
       "shard.00002.mds:   0%|          | 0.00/67.1M [00:00<?, ?B/s]"
      ]
     },
     "metadata": {},
     "output_type": "display_data"
    },
    {
     "data": {
      "application/vnd.jupyter.widget-view+json": {
       "model_id": "769e67002de644acaef86d5af0b6451f",
       "version_major": 2,
       "version_minor": 0
      },
      "text/plain": [
       "shard.00001.mds:   0%|          | 0.00/67.1M [00:00<?, ?B/s]"
      ]
     },
     "metadata": {},
     "output_type": "display_data"
    },
    {
     "data": {
      "application/vnd.jupyter.widget-view+json": {
       "model_id": "e8ae1777d32f4e26b22a9fe75ea80490",
       "version_major": 2,
       "version_minor": 0
      },
      "text/plain": [
       "shard.00003.mds:   0%|          | 0.00/67.1M [00:00<?, ?B/s]"
      ]
     },
     "metadata": {},
     "output_type": "display_data"
    },
    {
     "data": {
      "application/vnd.jupyter.widget-view+json": {
       "model_id": "20fd2a71a3f3422483ee1997e5ef405d",
       "version_major": 2,
       "version_minor": 0
      },
      "text/plain": [
       "shard.00004.mds:   0%|          | 0.00/67.1M [00:00<?, ?B/s]"
      ]
     },
     "metadata": {},
     "output_type": "display_data"
    },
    {
     "data": {
      "application/vnd.jupyter.widget-view+json": {
       "model_id": "e49ffa6fcae843b5b16a79613bc80de0",
       "version_major": 2,
       "version_minor": 0
      },
      "text/plain": [
       "Upload 112 LFS files:   0%|          | 0/112 [00:00<?, ?it/s]"
      ]
     },
     "metadata": {},
     "output_type": "display_data"
    },
    {
     "data": {
      "application/vnd.jupyter.widget-view+json": {
       "model_id": "edae436753e14520b7bd25e4371232ca",
       "version_major": 2,
       "version_minor": 0
      },
      "text/plain": [
       "shard.00005.mds:   0%|          | 0.00/67.1M [00:00<?, ?B/s]"
      ]
     },
     "metadata": {},
     "output_type": "display_data"
    },
    {
     "data": {
      "application/vnd.jupyter.widget-view+json": {
       "model_id": "699d24ca00da4db4a68941cff56a5566",
       "version_major": 2,
       "version_minor": 0
      },
      "text/plain": [
       "shard.00006.mds:   0%|          | 0.00/67.1M [00:00<?, ?B/s]"
      ]
     },
     "metadata": {},
     "output_type": "display_data"
    },
    {
     "data": {
      "application/vnd.jupyter.widget-view+json": {
       "model_id": "d27d7d7a66ed4d0689b708a9f4c758d0",
       "version_major": 2,
       "version_minor": 0
      },
      "text/plain": [
       "shard.00007.mds:   0%|          | 0.00/67.1M [00:00<?, ?B/s]"
      ]
     },
     "metadata": {},
     "output_type": "display_data"
    },
    {
     "data": {
      "application/vnd.jupyter.widget-view+json": {
       "model_id": "9e7c4ed2854f4f60be5ac81c530decd7",
       "version_major": 2,
       "version_minor": 0
      },
      "text/plain": [
       "shard.00008.mds:   0%|          | 0.00/67.1M [00:00<?, ?B/s]"
      ]
     },
     "metadata": {},
     "output_type": "display_data"
    },
    {
     "data": {
      "application/vnd.jupyter.widget-view+json": {
       "model_id": "b507100fe6ca40d69b9ecb34603bd8cb",
       "version_major": 2,
       "version_minor": 0
      },
      "text/plain": [
       "shard.00009.mds:   0%|          | 0.00/67.1M [00:00<?, ?B/s]"
      ]
     },
     "metadata": {},
     "output_type": "display_data"
    },
    {
     "data": {
      "application/vnd.jupyter.widget-view+json": {
       "model_id": "1052c33a303d471f86af9530c139fdb5",
       "version_major": 2,
       "version_minor": 0
      },
      "text/plain": [
       "shard.00010.mds:   0%|          | 0.00/67.1M [00:00<?, ?B/s]"
      ]
     },
     "metadata": {},
     "output_type": "display_data"
    },
    {
     "data": {
      "application/vnd.jupyter.widget-view+json": {
       "model_id": "297bb0c8f22d48ea997ccb64bbb59e63",
       "version_major": 2,
       "version_minor": 0
      },
      "text/plain": [
       "shard.00011.mds:   0%|          | 0.00/67.1M [00:00<?, ?B/s]"
      ]
     },
     "metadata": {},
     "output_type": "display_data"
    },
    {
     "data": {
      "application/vnd.jupyter.widget-view+json": {
       "model_id": "8e087dbf4c5346f59066007a4dbe6414",
       "version_major": 2,
       "version_minor": 0
      },
      "text/plain": [
       "shard.00012.mds:   0%|          | 0.00/67.1M [00:00<?, ?B/s]"
      ]
     },
     "metadata": {},
     "output_type": "display_data"
    },
    {
     "data": {
      "application/vnd.jupyter.widget-view+json": {
       "model_id": "fc170d0865b744179cff17284d8ad5f7",
       "version_major": 2,
       "version_minor": 0
      },
      "text/plain": [
       "shard.00013.mds:   0%|          | 0.00/67.1M [00:00<?, ?B/s]"
      ]
     },
     "metadata": {},
     "output_type": "display_data"
    },
    {
     "data": {
      "application/vnd.jupyter.widget-view+json": {
       "model_id": "b8758d2586d24b4f9204ab01fc2cd672",
       "version_major": 2,
       "version_minor": 0
      },
      "text/plain": [
       "shard.00014.mds:   0%|          | 0.00/67.1M [00:00<?, ?B/s]"
      ]
     },
     "metadata": {},
     "output_type": "display_data"
    },
    {
     "data": {
      "application/vnd.jupyter.widget-view+json": {
       "model_id": "07f4095098ef42cc84116de32b843c7c",
       "version_major": 2,
       "version_minor": 0
      },
      "text/plain": [
       "shard.00015.mds:   0%|          | 0.00/67.1M [00:00<?, ?B/s]"
      ]
     },
     "metadata": {},
     "output_type": "display_data"
    },
    {
     "data": {
      "application/vnd.jupyter.widget-view+json": {
       "model_id": "0df70f67cc8641ac93b813ebe9f8e8be",
       "version_major": 2,
       "version_minor": 0
      },
      "text/plain": [
       "shard.00016.mds:   0%|          | 0.00/67.1M [00:00<?, ?B/s]"
      ]
     },
     "metadata": {},
     "output_type": "display_data"
    },
    {
     "data": {
      "application/vnd.jupyter.widget-view+json": {
       "model_id": "40d43aa40b68415489e84f45dcc0f70c",
       "version_major": 2,
       "version_minor": 0
      },
      "text/plain": [
       "shard.00017.mds:   0%|          | 0.00/67.1M [00:00<?, ?B/s]"
      ]
     },
     "metadata": {},
     "output_type": "display_data"
    },
    {
     "data": {
      "application/vnd.jupyter.widget-view+json": {
       "model_id": "5d0dfa5fdc134eba9687b06478234172",
       "version_major": 2,
       "version_minor": 0
      },
      "text/plain": [
       "shard.00018.mds:   0%|          | 0.00/67.1M [00:00<?, ?B/s]"
      ]
     },
     "metadata": {},
     "output_type": "display_data"
    },
    {
     "data": {
      "application/vnd.jupyter.widget-view+json": {
       "model_id": "482d99a082fc45ba8bf09351154bca90",
       "version_major": 2,
       "version_minor": 0
      },
      "text/plain": [
       "shard.00019.mds:   0%|          | 0.00/67.1M [00:00<?, ?B/s]"
      ]
     },
     "metadata": {},
     "output_type": "display_data"
    },
    {
     "data": {
      "application/vnd.jupyter.widget-view+json": {
       "model_id": "c40d11e55651434c8703db307d2766f8",
       "version_major": 2,
       "version_minor": 0
      },
      "text/plain": [
       "shard.00020.mds:   0%|          | 0.00/67.1M [00:00<?, ?B/s]"
      ]
     },
     "metadata": {},
     "output_type": "display_data"
    },
    {
     "data": {
      "application/vnd.jupyter.widget-view+json": {
       "model_id": "f3b28453a99e4e20880f43de8232520c",
       "version_major": 2,
       "version_minor": 0
      },
      "text/plain": [
       "shard.00021.mds:   0%|          | 0.00/67.1M [00:00<?, ?B/s]"
      ]
     },
     "metadata": {},
     "output_type": "display_data"
    },
    {
     "data": {
      "application/vnd.jupyter.widget-view+json": {
       "model_id": "2a3dc17619a0429dbed0960980235f19",
       "version_major": 2,
       "version_minor": 0
      },
      "text/plain": [
       "shard.00022.mds:   0%|          | 0.00/67.1M [00:00<?, ?B/s]"
      ]
     },
     "metadata": {},
     "output_type": "display_data"
    },
    {
     "data": {
      "application/vnd.jupyter.widget-view+json": {
       "model_id": "49be212ef99546dd816413981d9f3a2b",
       "version_major": 2,
       "version_minor": 0
      },
      "text/plain": [
       "shard.00023.mds:   0%|          | 0.00/67.1M [00:00<?, ?B/s]"
      ]
     },
     "metadata": {},
     "output_type": "display_data"
    },
    {
     "data": {
      "application/vnd.jupyter.widget-view+json": {
       "model_id": "ad187d0d143c4f96b4de4eb29fe558cd",
       "version_major": 2,
       "version_minor": 0
      },
      "text/plain": [
       "shard.00024.mds:   0%|          | 0.00/67.1M [00:00<?, ?B/s]"
      ]
     },
     "metadata": {},
     "output_type": "display_data"
    },
    {
     "data": {
      "application/vnd.jupyter.widget-view+json": {
       "model_id": "50090c179af14cc796cbed75ed8ffa3d",
       "version_major": 2,
       "version_minor": 0
      },
      "text/plain": [
       "shard.00025.mds:   0%|          | 0.00/67.1M [00:00<?, ?B/s]"
      ]
     },
     "metadata": {},
     "output_type": "display_data"
    },
    {
     "data": {
      "application/vnd.jupyter.widget-view+json": {
       "model_id": "fe265b8e033f4508bea1611dc0a2c160",
       "version_major": 2,
       "version_minor": 0
      },
      "text/plain": [
       "shard.00026.mds:   0%|          | 0.00/67.1M [00:00<?, ?B/s]"
      ]
     },
     "metadata": {},
     "output_type": "display_data"
    },
    {
     "data": {
      "application/vnd.jupyter.widget-view+json": {
       "model_id": "b171e63a69134f76a2c0862239d0c6df",
       "version_major": 2,
       "version_minor": 0
      },
      "text/plain": [
       "shard.00027.mds:   0%|          | 0.00/67.1M [00:00<?, ?B/s]"
      ]
     },
     "metadata": {},
     "output_type": "display_data"
    },
    {
     "data": {
      "application/vnd.jupyter.widget-view+json": {
       "model_id": "be0d82352f804a9ab43f4321e594c84e",
       "version_major": 2,
       "version_minor": 0
      },
      "text/plain": [
       "shard.00028.mds:   0%|          | 0.00/67.1M [00:00<?, ?B/s]"
      ]
     },
     "metadata": {},
     "output_type": "display_data"
    },
    {
     "data": {
      "application/vnd.jupyter.widget-view+json": {
       "model_id": "b908619ed77347f9b5a1e439c45360f1",
       "version_major": 2,
       "version_minor": 0
      },
      "text/plain": [
       "shard.00029.mds:   0%|          | 0.00/67.1M [00:00<?, ?B/s]"
      ]
     },
     "metadata": {},
     "output_type": "display_data"
    },
    {
     "data": {
      "application/vnd.jupyter.widget-view+json": {
       "model_id": "000e2dfe26554e47870cabe435d89a4c",
       "version_major": 2,
       "version_minor": 0
      },
      "text/plain": [
       "shard.00030.mds:   0%|          | 0.00/67.1M [00:00<?, ?B/s]"
      ]
     },
     "metadata": {},
     "output_type": "display_data"
    },
    {
     "data": {
      "application/vnd.jupyter.widget-view+json": {
       "model_id": "ac2c46a461ca496ca1f466c5b866fbc8",
       "version_major": 2,
       "version_minor": 0
      },
      "text/plain": [
       "shard.00031.mds:   0%|          | 0.00/67.1M [00:00<?, ?B/s]"
      ]
     },
     "metadata": {},
     "output_type": "display_data"
    },
    {
     "data": {
      "application/vnd.jupyter.widget-view+json": {
       "model_id": "3faddb7f49714f5080fb13f94f64d961",
       "version_major": 2,
       "version_minor": 0
      },
      "text/plain": [
       "shard.00032.mds:   0%|          | 0.00/67.1M [00:00<?, ?B/s]"
      ]
     },
     "metadata": {},
     "output_type": "display_data"
    },
    {
     "data": {
      "application/vnd.jupyter.widget-view+json": {
       "model_id": "29367ae2b794409c9e642dc23d05cca0",
       "version_major": 2,
       "version_minor": 0
      },
      "text/plain": [
       "shard.00033.mds:   0%|          | 0.00/67.1M [00:00<?, ?B/s]"
      ]
     },
     "metadata": {},
     "output_type": "display_data"
    },
    {
     "data": {
      "application/vnd.jupyter.widget-view+json": {
       "model_id": "93425ce1af8c4b9eba9f8612aeab8f06",
       "version_major": 2,
       "version_minor": 0
      },
      "text/plain": [
       "shard.00034.mds:   0%|          | 0.00/67.1M [00:00<?, ?B/s]"
      ]
     },
     "metadata": {},
     "output_type": "display_data"
    },
    {
     "data": {
      "application/vnd.jupyter.widget-view+json": {
       "model_id": "22cd1c733e6a408085a1d63bb94c11be",
       "version_major": 2,
       "version_minor": 0
      },
      "text/plain": [
       "shard.00035.mds:   0%|          | 0.00/67.1M [00:00<?, ?B/s]"
      ]
     },
     "metadata": {},
     "output_type": "display_data"
    },
    {
     "data": {
      "application/vnd.jupyter.widget-view+json": {
       "model_id": "987a3fe2a28a4e008d6e4346bab058e0",
       "version_major": 2,
       "version_minor": 0
      },
      "text/plain": [
       "shard.00036.mds:   0%|          | 0.00/67.1M [00:00<?, ?B/s]"
      ]
     },
     "metadata": {},
     "output_type": "display_data"
    },
    {
     "data": {
      "application/vnd.jupyter.widget-view+json": {
       "model_id": "957a001a7e1c45b681c4bd744172492a",
       "version_major": 2,
       "version_minor": 0
      },
      "text/plain": [
       "shard.00037.mds:   0%|          | 0.00/67.1M [00:00<?, ?B/s]"
      ]
     },
     "metadata": {},
     "output_type": "display_data"
    },
    {
     "data": {
      "application/vnd.jupyter.widget-view+json": {
       "model_id": "e0ff37a97361470e80a4d86c57233212",
       "version_major": 2,
       "version_minor": 0
      },
      "text/plain": [
       "shard.00038.mds:   0%|          | 0.00/67.1M [00:00<?, ?B/s]"
      ]
     },
     "metadata": {},
     "output_type": "display_data"
    },
    {
     "data": {
      "application/vnd.jupyter.widget-view+json": {
       "model_id": "fd23df64e5d347408c7ad93f037fd896",
       "version_major": 2,
       "version_minor": 0
      },
      "text/plain": [
       "shard.00039.mds:   0%|          | 0.00/67.1M [00:00<?, ?B/s]"
      ]
     },
     "metadata": {},
     "output_type": "display_data"
    },
    {
     "data": {
      "application/vnd.jupyter.widget-view+json": {
       "model_id": "4df075cef7384305b7a552993d80dc82",
       "version_major": 2,
       "version_minor": 0
      },
      "text/plain": [
       "shard.00040.mds:   0%|          | 0.00/67.1M [00:00<?, ?B/s]"
      ]
     },
     "metadata": {},
     "output_type": "display_data"
    },
    {
     "data": {
      "application/vnd.jupyter.widget-view+json": {
       "model_id": "551246acf973466191bc331d18fbe4bb",
       "version_major": 2,
       "version_minor": 0
      },
      "text/plain": [
       "shard.00041.mds:   0%|          | 0.00/67.1M [00:00<?, ?B/s]"
      ]
     },
     "metadata": {},
     "output_type": "display_data"
    },
    {
     "data": {
      "application/vnd.jupyter.widget-view+json": {
       "model_id": "c230c006b8b74543abc88006df8f260d",
       "version_major": 2,
       "version_minor": 0
      },
      "text/plain": [
       "shard.00042.mds:   0%|          | 0.00/67.1M [00:00<?, ?B/s]"
      ]
     },
     "metadata": {},
     "output_type": "display_data"
    },
    {
     "data": {
      "application/vnd.jupyter.widget-view+json": {
       "model_id": "a3a799517f134734802480ae8ebe8ece",
       "version_major": 2,
       "version_minor": 0
      },
      "text/plain": [
       "shard.00043.mds:   0%|          | 0.00/67.1M [00:00<?, ?B/s]"
      ]
     },
     "metadata": {},
     "output_type": "display_data"
    },
    {
     "data": {
      "application/vnd.jupyter.widget-view+json": {
       "model_id": "3dc6f68bf667415a96da199e8b8abd88",
       "version_major": 2,
       "version_minor": 0
      },
      "text/plain": [
       "shard.00044.mds:   0%|          | 0.00/67.1M [00:00<?, ?B/s]"
      ]
     },
     "metadata": {},
     "output_type": "display_data"
    },
    {
     "data": {
      "application/vnd.jupyter.widget-view+json": {
       "model_id": "c3d9070ddd734e1ab499228be1d2eea0",
       "version_major": 2,
       "version_minor": 0
      },
      "text/plain": [
       "shard.00045.mds:   0%|          | 0.00/67.1M [00:00<?, ?B/s]"
      ]
     },
     "metadata": {},
     "output_type": "display_data"
    },
    {
     "data": {
      "application/vnd.jupyter.widget-view+json": {
       "model_id": "ae00a67549a248e1b4f780fecff8a4aa",
       "version_major": 2,
       "version_minor": 0
      },
      "text/plain": [
       "shard.00046.mds:   0%|          | 0.00/67.1M [00:00<?, ?B/s]"
      ]
     },
     "metadata": {},
     "output_type": "display_data"
    },
    {
     "data": {
      "application/vnd.jupyter.widget-view+json": {
       "model_id": "4e02cadb957342feba9c629c359b2904",
       "version_major": 2,
       "version_minor": 0
      },
      "text/plain": [
       "shard.00047.mds:   0%|          | 0.00/67.1M [00:00<?, ?B/s]"
      ]
     },
     "metadata": {},
     "output_type": "display_data"
    },
    {
     "data": {
      "application/vnd.jupyter.widget-view+json": {
       "model_id": "38a41d44aa37492e8acfdd2b2ffafe17",
       "version_major": 2,
       "version_minor": 0
      },
      "text/plain": [
       "shard.00048.mds:   0%|          | 0.00/67.1M [00:00<?, ?B/s]"
      ]
     },
     "metadata": {},
     "output_type": "display_data"
    },
    {
     "data": {
      "application/vnd.jupyter.widget-view+json": {
       "model_id": "80e03f7b3a114877bad52ed5be946214",
       "version_major": 2,
       "version_minor": 0
      },
      "text/plain": [
       "shard.00049.mds:   0%|          | 0.00/67.1M [00:00<?, ?B/s]"
      ]
     },
     "metadata": {},
     "output_type": "display_data"
    },
    {
     "data": {
      "application/vnd.jupyter.widget-view+json": {
       "model_id": "d13c8bdba0d247b89cf8a332940f30c6",
       "version_major": 2,
       "version_minor": 0
      },
      "text/plain": [
       "shard.00050.mds:   0%|          | 0.00/67.1M [00:00<?, ?B/s]"
      ]
     },
     "metadata": {},
     "output_type": "display_data"
    },
    {
     "data": {
      "application/vnd.jupyter.widget-view+json": {
       "model_id": "8e0df9bb45314ae5906c0e0d39c4cb93",
       "version_major": 2,
       "version_minor": 0
      },
      "text/plain": [
       "shard.00051.mds:   0%|          | 0.00/67.1M [00:00<?, ?B/s]"
      ]
     },
     "metadata": {},
     "output_type": "display_data"
    },
    {
     "data": {
      "application/vnd.jupyter.widget-view+json": {
       "model_id": "04dca6a0d6094349a864fd3dd7ed536a",
       "version_major": 2,
       "version_minor": 0
      },
      "text/plain": [
       "shard.00052.mds:   0%|          | 0.00/67.1M [00:00<?, ?B/s]"
      ]
     },
     "metadata": {},
     "output_type": "display_data"
    },
    {
     "data": {
      "application/vnd.jupyter.widget-view+json": {
       "model_id": "40614d4cac3a496282557e80b5e845e5",
       "version_major": 2,
       "version_minor": 0
      },
      "text/plain": [
       "shard.00053.mds:   0%|          | 0.00/67.1M [00:00<?, ?B/s]"
      ]
     },
     "metadata": {},
     "output_type": "display_data"
    },
    {
     "data": {
      "application/vnd.jupyter.widget-view+json": {
       "model_id": "cd2bbd7bb1914725bff72bd411fa2742",
       "version_major": 2,
       "version_minor": 0
      },
      "text/plain": [
       "shard.00054.mds:   0%|          | 0.00/67.1M [00:00<?, ?B/s]"
      ]
     },
     "metadata": {},
     "output_type": "display_data"
    },
    {
     "data": {
      "application/vnd.jupyter.widget-view+json": {
       "model_id": "d3bf8575aee04b08848cf7be1516dbc5",
       "version_major": 2,
       "version_minor": 0
      },
      "text/plain": [
       "shard.00055.mds:   0%|          | 0.00/67.1M [00:00<?, ?B/s]"
      ]
     },
     "metadata": {},
     "output_type": "display_data"
    },
    {
     "data": {
      "application/vnd.jupyter.widget-view+json": {
       "model_id": "7f1cad796a804f94bfe87a8e5049f7e7",
       "version_major": 2,
       "version_minor": 0
      },
      "text/plain": [
       "shard.00056.mds:   0%|          | 0.00/67.1M [00:00<?, ?B/s]"
      ]
     },
     "metadata": {},
     "output_type": "display_data"
    },
    {
     "data": {
      "application/vnd.jupyter.widget-view+json": {
       "model_id": "dd5070ca66014e5cb1576b184c924931",
       "version_major": 2,
       "version_minor": 0
      },
      "text/plain": [
       "shard.00057.mds:   0%|          | 0.00/67.1M [00:00<?, ?B/s]"
      ]
     },
     "metadata": {},
     "output_type": "display_data"
    },
    {
     "data": {
      "application/vnd.jupyter.widget-view+json": {
       "model_id": "804651220d104be487272c0bbc7206cd",
       "version_major": 2,
       "version_minor": 0
      },
      "text/plain": [
       "shard.00058.mds:   0%|          | 0.00/67.1M [00:00<?, ?B/s]"
      ]
     },
     "metadata": {},
     "output_type": "display_data"
    },
    {
     "data": {
      "application/vnd.jupyter.widget-view+json": {
       "model_id": "a091837f8cf24cba8e934a55d6eaddda",
       "version_major": 2,
       "version_minor": 0
      },
      "text/plain": [
       "shard.00059.mds:   0%|          | 0.00/67.1M [00:00<?, ?B/s]"
      ]
     },
     "metadata": {},
     "output_type": "display_data"
    },
    {
     "data": {
      "application/vnd.jupyter.widget-view+json": {
       "model_id": "81e1e1cdb73344618b52f43e4bd6b97c",
       "version_major": 2,
       "version_minor": 0
      },
      "text/plain": [
       "shard.00060.mds:   0%|          | 0.00/67.1M [00:00<?, ?B/s]"
      ]
     },
     "metadata": {},
     "output_type": "display_data"
    },
    {
     "data": {
      "application/vnd.jupyter.widget-view+json": {
       "model_id": "020d733506d54271b1be62fb5619af79",
       "version_major": 2,
       "version_minor": 0
      },
      "text/plain": [
       "shard.00061.mds:   0%|          | 0.00/67.1M [00:00<?, ?B/s]"
      ]
     },
     "metadata": {},
     "output_type": "display_data"
    },
    {
     "data": {
      "application/vnd.jupyter.widget-view+json": {
       "model_id": "4ada7bdcf5ab41b3a5ad23b658cf5366",
       "version_major": 2,
       "version_minor": 0
      },
      "text/plain": [
       "shard.00062.mds:   0%|          | 0.00/67.1M [00:00<?, ?B/s]"
      ]
     },
     "metadata": {},
     "output_type": "display_data"
    },
    {
     "data": {
      "application/vnd.jupyter.widget-view+json": {
       "model_id": "475621187f7b4b4c8d5ca1c5b8124279",
       "version_major": 2,
       "version_minor": 0
      },
      "text/plain": [
       "shard.00063.mds:   0%|          | 0.00/67.1M [00:00<?, ?B/s]"
      ]
     },
     "metadata": {},
     "output_type": "display_data"
    },
    {
     "data": {
      "application/vnd.jupyter.widget-view+json": {
       "model_id": "9e9591dce16746298c333aa77109978c",
       "version_major": 2,
       "version_minor": 0
      },
      "text/plain": [
       "shard.00064.mds:   0%|          | 0.00/67.1M [00:00<?, ?B/s]"
      ]
     },
     "metadata": {},
     "output_type": "display_data"
    },
    {
     "data": {
      "application/vnd.jupyter.widget-view+json": {
       "model_id": "a209bf6002c543e6ba1e0f41a10030fe",
       "version_major": 2,
       "version_minor": 0
      },
      "text/plain": [
       "shard.00065.mds:   0%|          | 0.00/67.1M [00:00<?, ?B/s]"
      ]
     },
     "metadata": {},
     "output_type": "display_data"
    },
    {
     "data": {
      "application/vnd.jupyter.widget-view+json": {
       "model_id": "aa77da59af594628ac0fe6634f513283",
       "version_major": 2,
       "version_minor": 0
      },
      "text/plain": [
       "shard.00066.mds:   0%|          | 0.00/67.1M [00:00<?, ?B/s]"
      ]
     },
     "metadata": {},
     "output_type": "display_data"
    },
    {
     "data": {
      "application/vnd.jupyter.widget-view+json": {
       "model_id": "b1dc63f341774766bbabd9034077d1e0",
       "version_major": 2,
       "version_minor": 0
      },
      "text/plain": [
       "shard.00067.mds:   0%|          | 0.00/67.1M [00:00<?, ?B/s]"
      ]
     },
     "metadata": {},
     "output_type": "display_data"
    },
    {
     "data": {
      "application/vnd.jupyter.widget-view+json": {
       "model_id": "8b98ee9ae1304928bf3d23aa5ff8b58c",
       "version_major": 2,
       "version_minor": 0
      },
      "text/plain": [
       "shard.00068.mds:   0%|          | 0.00/67.1M [00:00<?, ?B/s]"
      ]
     },
     "metadata": {},
     "output_type": "display_data"
    },
    {
     "data": {
      "application/vnd.jupyter.widget-view+json": {
       "model_id": "21ed27b692bf4ff095f7af059e45c798",
       "version_major": 2,
       "version_minor": 0
      },
      "text/plain": [
       "shard.00069.mds:   0%|          | 0.00/67.1M [00:00<?, ?B/s]"
      ]
     },
     "metadata": {},
     "output_type": "display_data"
    },
    {
     "data": {
      "application/vnd.jupyter.widget-view+json": {
       "model_id": "148a6d002cfc4df5a60ca12735ef1dfe",
       "version_major": 2,
       "version_minor": 0
      },
      "text/plain": [
       "shard.00070.mds:   0%|          | 0.00/67.1M [00:00<?, ?B/s]"
      ]
     },
     "metadata": {},
     "output_type": "display_data"
    },
    {
     "data": {
      "application/vnd.jupyter.widget-view+json": {
       "model_id": "bbfb9ca184654032adfe0d07649238ce",
       "version_major": 2,
       "version_minor": 0
      },
      "text/plain": [
       "shard.00071.mds:   0%|          | 0.00/67.1M [00:00<?, ?B/s]"
      ]
     },
     "metadata": {},
     "output_type": "display_data"
    },
    {
     "data": {
      "application/vnd.jupyter.widget-view+json": {
       "model_id": "c5ef4e4e704c48bb8c33a962736bd493",
       "version_major": 2,
       "version_minor": 0
      },
      "text/plain": [
       "shard.00072.mds:   0%|          | 0.00/67.1M [00:00<?, ?B/s]"
      ]
     },
     "metadata": {},
     "output_type": "display_data"
    },
    {
     "data": {
      "application/vnd.jupyter.widget-view+json": {
       "model_id": "74264469e72441ec995095cad2034c5e",
       "version_major": 2,
       "version_minor": 0
      },
      "text/plain": [
       "shard.00073.mds:   0%|          | 0.00/67.1M [00:00<?, ?B/s]"
      ]
     },
     "metadata": {},
     "output_type": "display_data"
    },
    {
     "data": {
      "application/vnd.jupyter.widget-view+json": {
       "model_id": "5de6b5c869e24bb08e7dde26fcca14c5",
       "version_major": 2,
       "version_minor": 0
      },
      "text/plain": [
       "shard.00074.mds:   0%|          | 0.00/67.1M [00:00<?, ?B/s]"
      ]
     },
     "metadata": {},
     "output_type": "display_data"
    },
    {
     "data": {
      "application/vnd.jupyter.widget-view+json": {
       "model_id": "5e5bb92a6df147e68451f4ddc353fa04",
       "version_major": 2,
       "version_minor": 0
      },
      "text/plain": [
       "shard.00075.mds:   0%|          | 0.00/67.1M [00:00<?, ?B/s]"
      ]
     },
     "metadata": {},
     "output_type": "display_data"
    },
    {
     "data": {
      "application/vnd.jupyter.widget-view+json": {
       "model_id": "f25d478651ae4c56b9a2baa3e83ac866",
       "version_major": 2,
       "version_minor": 0
      },
      "text/plain": [
       "shard.00076.mds:   0%|          | 0.00/67.1M [00:00<?, ?B/s]"
      ]
     },
     "metadata": {},
     "output_type": "display_data"
    },
    {
     "data": {
      "application/vnd.jupyter.widget-view+json": {
       "model_id": "1952abd6af5f4492868ac80c4d42f07a",
       "version_major": 2,
       "version_minor": 0
      },
      "text/plain": [
       "shard.00077.mds:   0%|          | 0.00/67.1M [00:00<?, ?B/s]"
      ]
     },
     "metadata": {},
     "output_type": "display_data"
    },
    {
     "data": {
      "application/vnd.jupyter.widget-view+json": {
       "model_id": "43e52e003a1d496a93173382ddf86a0a",
       "version_major": 2,
       "version_minor": 0
      },
      "text/plain": [
       "shard.00078.mds:   0%|          | 0.00/67.1M [00:00<?, ?B/s]"
      ]
     },
     "metadata": {},
     "output_type": "display_data"
    },
    {
     "data": {
      "application/vnd.jupyter.widget-view+json": {
       "model_id": "031c2f1eb656422db88d2e802c4570ac",
       "version_major": 2,
       "version_minor": 0
      },
      "text/plain": [
       "shard.00079.mds:   0%|          | 0.00/67.1M [00:00<?, ?B/s]"
      ]
     },
     "metadata": {},
     "output_type": "display_data"
    },
    {
     "data": {
      "application/vnd.jupyter.widget-view+json": {
       "model_id": "0d6ce6bb6c8a4c3c883e578faa6e77ee",
       "version_major": 2,
       "version_minor": 0
      },
      "text/plain": [
       "shard.00080.mds:   0%|          | 0.00/67.1M [00:00<?, ?B/s]"
      ]
     },
     "metadata": {},
     "output_type": "display_data"
    },
    {
     "data": {
      "application/vnd.jupyter.widget-view+json": {
       "model_id": "606c044bcb8c448bb6c49c61d9493b8a",
       "version_major": 2,
       "version_minor": 0
      },
      "text/plain": [
       "shard.00081.mds:   0%|          | 0.00/67.1M [00:00<?, ?B/s]"
      ]
     },
     "metadata": {},
     "output_type": "display_data"
    },
    {
     "data": {
      "application/vnd.jupyter.widget-view+json": {
       "model_id": "e149e80e849e47dc97bea8764195ce93",
       "version_major": 2,
       "version_minor": 0
      },
      "text/plain": [
       "shard.00082.mds:   0%|          | 0.00/67.1M [00:00<?, ?B/s]"
      ]
     },
     "metadata": {},
     "output_type": "display_data"
    },
    {
     "data": {
      "application/vnd.jupyter.widget-view+json": {
       "model_id": "b7dcded5676a430d93d61f66aeb170a2",
       "version_major": 2,
       "version_minor": 0
      },
      "text/plain": [
       "shard.00083.mds:   0%|          | 0.00/67.1M [00:00<?, ?B/s]"
      ]
     },
     "metadata": {},
     "output_type": "display_data"
    },
    {
     "data": {
      "application/vnd.jupyter.widget-view+json": {
       "model_id": "568b87ab50ab43f795a7d6e3981b58a6",
       "version_major": 2,
       "version_minor": 0
      },
      "text/plain": [
       "shard.00084.mds:   0%|          | 0.00/67.1M [00:00<?, ?B/s]"
      ]
     },
     "metadata": {},
     "output_type": "display_data"
    },
    {
     "data": {
      "application/vnd.jupyter.widget-view+json": {
       "model_id": "c2153950d2ce4fcaa51c2a26584b52e6",
       "version_major": 2,
       "version_minor": 0
      },
      "text/plain": [
       "shard.00085.mds:   0%|          | 0.00/67.1M [00:00<?, ?B/s]"
      ]
     },
     "metadata": {},
     "output_type": "display_data"
    },
    {
     "data": {
      "application/vnd.jupyter.widget-view+json": {
       "model_id": "c4217f0914b24baaa8fc1eb9866417e7",
       "version_major": 2,
       "version_minor": 0
      },
      "text/plain": [
       "shard.00086.mds:   0%|          | 0.00/67.1M [00:00<?, ?B/s]"
      ]
     },
     "metadata": {},
     "output_type": "display_data"
    },
    {
     "data": {
      "application/vnd.jupyter.widget-view+json": {
       "model_id": "a651bf7d072741d9b17ed5b123dd9bed",
       "version_major": 2,
       "version_minor": 0
      },
      "text/plain": [
       "shard.00087.mds:   0%|          | 0.00/67.1M [00:00<?, ?B/s]"
      ]
     },
     "metadata": {},
     "output_type": "display_data"
    },
    {
     "data": {
      "application/vnd.jupyter.widget-view+json": {
       "model_id": "3338a3dee73c426db0e558e7ec5d65b7",
       "version_major": 2,
       "version_minor": 0
      },
      "text/plain": [
       "shard.00088.mds:   0%|          | 0.00/67.1M [00:00<?, ?B/s]"
      ]
     },
     "metadata": {},
     "output_type": "display_data"
    },
    {
     "data": {
      "application/vnd.jupyter.widget-view+json": {
       "model_id": "df6cbf6d91da4ba3a216028461c03c9d",
       "version_major": 2,
       "version_minor": 0
      },
      "text/plain": [
       "shard.00089.mds:   0%|          | 0.00/67.1M [00:00<?, ?B/s]"
      ]
     },
     "metadata": {},
     "output_type": "display_data"
    },
    {
     "data": {
      "application/vnd.jupyter.widget-view+json": {
       "model_id": "9a80b21c0757479799a4646d52421a75",
       "version_major": 2,
       "version_minor": 0
      },
      "text/plain": [
       "shard.00090.mds:   0%|          | 0.00/67.1M [00:00<?, ?B/s]"
      ]
     },
     "metadata": {},
     "output_type": "display_data"
    },
    {
     "data": {
      "application/vnd.jupyter.widget-view+json": {
       "model_id": "6166f1aafcf84550b6f2aaa70e25c508",
       "version_major": 2,
       "version_minor": 0
      },
      "text/plain": [
       "shard.00091.mds:   0%|          | 0.00/67.1M [00:00<?, ?B/s]"
      ]
     },
     "metadata": {},
     "output_type": "display_data"
    },
    {
     "data": {
      "application/vnd.jupyter.widget-view+json": {
       "model_id": "6238bee69253418a8e30f9872db335c3",
       "version_major": 2,
       "version_minor": 0
      },
      "text/plain": [
       "shard.00092.mds:   0%|          | 0.00/67.1M [00:00<?, ?B/s]"
      ]
     },
     "metadata": {},
     "output_type": "display_data"
    },
    {
     "data": {
      "application/vnd.jupyter.widget-view+json": {
       "model_id": "2228e2fef9434174ad368a4c74b0fe02",
       "version_major": 2,
       "version_minor": 0
      },
      "text/plain": [
       "shard.00093.mds:   0%|          | 0.00/67.1M [00:00<?, ?B/s]"
      ]
     },
     "metadata": {},
     "output_type": "display_data"
    },
    {
     "data": {
      "application/vnd.jupyter.widget-view+json": {
       "model_id": "b528697534ee49fab7aab2f79c724164",
       "version_major": 2,
       "version_minor": 0
      },
      "text/plain": [
       "shard.00094.mds:   0%|          | 0.00/67.1M [00:00<?, ?B/s]"
      ]
     },
     "metadata": {},
     "output_type": "display_data"
    },
    {
     "data": {
      "application/vnd.jupyter.widget-view+json": {
       "model_id": "08e5ae7cc2cb42cb8d6e7ad92f8ba71b",
       "version_major": 2,
       "version_minor": 0
      },
      "text/plain": [
       "shard.00095.mds:   0%|          | 0.00/67.1M [00:00<?, ?B/s]"
      ]
     },
     "metadata": {},
     "output_type": "display_data"
    },
    {
     "data": {
      "application/vnd.jupyter.widget-view+json": {
       "model_id": "c0a222e2d9284b6fbe5285eb7c8f1af0",
       "version_major": 2,
       "version_minor": 0
      },
      "text/plain": [
       "shard.00096.mds:   0%|          | 0.00/67.1M [00:00<?, ?B/s]"
      ]
     },
     "metadata": {},
     "output_type": "display_data"
    },
    {
     "data": {
      "application/vnd.jupyter.widget-view+json": {
       "model_id": "53a549660a24423991a879ea0f12bbfa",
       "version_major": 2,
       "version_minor": 0
      },
      "text/plain": [
       "shard.00097.mds:   0%|          | 0.00/67.1M [00:00<?, ?B/s]"
      ]
     },
     "metadata": {},
     "output_type": "display_data"
    },
    {
     "data": {
      "application/vnd.jupyter.widget-view+json": {
       "model_id": "5d51edeb0693456e9003ccdfbedca07a",
       "version_major": 2,
       "version_minor": 0
      },
      "text/plain": [
       "shard.00098.mds:   0%|          | 0.00/67.1M [00:00<?, ?B/s]"
      ]
     },
     "metadata": {},
     "output_type": "display_data"
    },
    {
     "data": {
      "application/vnd.jupyter.widget-view+json": {
       "model_id": "7e50cf7b67d04e698291576cf0623610",
       "version_major": 2,
       "version_minor": 0
      },
      "text/plain": [
       "shard.00099.mds:   0%|          | 0.00/67.1M [00:00<?, ?B/s]"
      ]
     },
     "metadata": {},
     "output_type": "display_data"
    },
    {
     "data": {
      "application/vnd.jupyter.widget-view+json": {
       "model_id": "e76ebd5ef0b94955b56aff06a77f4966",
       "version_major": 2,
       "version_minor": 0
      },
      "text/plain": [
       "shard.00100.mds:   0%|          | 0.00/67.1M [00:00<?, ?B/s]"
      ]
     },
     "metadata": {},
     "output_type": "display_data"
    },
    {
     "data": {
      "application/vnd.jupyter.widget-view+json": {
       "model_id": "157d5f29e5a04a2ebb46c38283693bb1",
       "version_major": 2,
       "version_minor": 0
      },
      "text/plain": [
       "shard.00101.mds:   0%|          | 0.00/67.1M [00:00<?, ?B/s]"
      ]
     },
     "metadata": {},
     "output_type": "display_data"
    },
    {
     "data": {
      "application/vnd.jupyter.widget-view+json": {
       "model_id": "c31633b619164e7b8e3f4a547aff3985",
       "version_major": 2,
       "version_minor": 0
      },
      "text/plain": [
       "shard.00102.mds:   0%|          | 0.00/67.1M [00:00<?, ?B/s]"
      ]
     },
     "metadata": {},
     "output_type": "display_data"
    },
    {
     "data": {
      "application/vnd.jupyter.widget-view+json": {
       "model_id": "51d473cbd2bb4099bea1f9b65a5907b5",
       "version_major": 2,
       "version_minor": 0
      },
      "text/plain": [
       "shard.00103.mds:   0%|          | 0.00/67.1M [00:00<?, ?B/s]"
      ]
     },
     "metadata": {},
     "output_type": "display_data"
    },
    {
     "data": {
      "application/vnd.jupyter.widget-view+json": {
       "model_id": "2557fde8653249d7a930d3ea26d99172",
       "version_major": 2,
       "version_minor": 0
      },
      "text/plain": [
       "shard.00104.mds:   0%|          | 0.00/67.1M [00:00<?, ?B/s]"
      ]
     },
     "metadata": {},
     "output_type": "display_data"
    },
    {
     "data": {
      "application/vnd.jupyter.widget-view+json": {
       "model_id": "cd8f98ba75b84e4198dda32bd40c3df6",
       "version_major": 2,
       "version_minor": 0
      },
      "text/plain": [
       "shard.00105.mds:   0%|          | 0.00/67.1M [00:00<?, ?B/s]"
      ]
     },
     "metadata": {},
     "output_type": "display_data"
    },
    {
     "data": {
      "application/vnd.jupyter.widget-view+json": {
       "model_id": "3ecca6d06ada448d8759694e30faca11",
       "version_major": 2,
       "version_minor": 0
      },
      "text/plain": [
       "shard.00106.mds:   0%|          | 0.00/67.1M [00:00<?, ?B/s]"
      ]
     },
     "metadata": {},
     "output_type": "display_data"
    },
    {
     "data": {
      "application/vnd.jupyter.widget-view+json": {
       "model_id": "94086936bceb467b9f026d4298b60566",
       "version_major": 2,
       "version_minor": 0
      },
      "text/plain": [
       "shard.00107.mds:   0%|          | 0.00/67.1M [00:00<?, ?B/s]"
      ]
     },
     "metadata": {},
     "output_type": "display_data"
    },
    {
     "data": {
      "application/vnd.jupyter.widget-view+json": {
       "model_id": "ae34f642466344d3b7ddff5c94e86c19",
       "version_major": 2,
       "version_minor": 0
      },
      "text/plain": [
       "shard.00108.mds:   0%|          | 0.00/67.1M [00:00<?, ?B/s]"
      ]
     },
     "metadata": {},
     "output_type": "display_data"
    },
    {
     "data": {
      "application/vnd.jupyter.widget-view+json": {
       "model_id": "b3decdb45bb745fda992c53a5339c74a",
       "version_major": 2,
       "version_minor": 0
      },
      "text/plain": [
       "shard.00109.mds:   0%|          | 0.00/67.1M [00:00<?, ?B/s]"
      ]
     },
     "metadata": {},
     "output_type": "display_data"
    },
    {
     "data": {
      "application/vnd.jupyter.widget-view+json": {
       "model_id": "b8e79e69e18a4fad94245609e71fdeae",
       "version_major": 2,
       "version_minor": 0
      },
      "text/plain": [
       "shard.00110.mds:   0%|          | 0.00/67.1M [00:00<?, ?B/s]"
      ]
     },
     "metadata": {},
     "output_type": "display_data"
    },
    {
     "data": {
      "application/vnd.jupyter.widget-view+json": {
       "model_id": "a0db3d2db43c41fb96fbb58f11163107",
       "version_major": 2,
       "version_minor": 0
      },
      "text/plain": [
       "shard.00111.mds:   0%|          | 0.00/15.8M [00:00<?, ?B/s]"
      ]
     },
     "metadata": {},
     "output_type": "display_data"
    },
    {
     "data": {
      "text/plain": [
       "CommitInfo(commit_url='https://huggingface.co/datasets/huseinzol05/malaysian-audio-qa-pretraining/commit/80188470993e0a8fe473684d3ceee8b909da5a1c', commit_message='Upload folder using huggingface_hub', commit_description='', oid='80188470993e0a8fe473684d3ceee8b909da5a1c', pr_url=None, repo_url=RepoUrl('https://huggingface.co/datasets/huseinzol05/malaysian-audio-qa-pretraining', endpoint='https://huggingface.co', repo_type='dataset', repo_id='huseinzol05/malaysian-audio-qa-pretraining'), pr_revision=None, pr_num=None)"
      ]
     },
     "execution_count": 57,
     "metadata": {},
     "output_type": "execute_result"
    }
   ],
   "source": [
    "from huggingface_hub import HfApi\n",
    "api = HfApi()\n",
    "\n",
    "api.upload_folder(\n",
    "    folder_path=\"packing-4k\",\n",
    "    repo_id=\"huseinzol05/malaysian-audio-qa-pretraining\",\n",
    "    repo_type=\"dataset\",\n",
    ")"
   ]
  },
  {
   "cell_type": "code",
   "execution_count": null,
   "id": "c47f23a0",
   "metadata": {},
   "outputs": [],
   "source": []
  }
 ],
 "metadata": {
  "kernelspec": {
   "display_name": "python3.10",
   "language": "python",
   "name": "python3.10"
  },
  "language_info": {
   "codemirror_mode": {
    "name": "ipython",
    "version": 3
   },
   "file_extension": ".py",
   "mimetype": "text/x-python",
   "name": "python",
   "nbconvert_exporter": "python",
   "pygments_lexer": "ipython3",
   "version": "3.10.15"
  }
 },
 "nbformat": 4,
 "nbformat_minor": 5
}
