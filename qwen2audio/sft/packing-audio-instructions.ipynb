{
 "cells": [
  {
   "cell_type": "code",
   "execution_count": 1,
   "id": "0049e08b",
   "metadata": {},
   "outputs": [],
   "source": [
    "# !wget https://qianwen-res.oss-cn-beijing.aliyuncs.com/Qwen2-Audio/audio/guess_age_gender.wav\n",
    "# !wget https://huggingface.co/datasets/mesolitica/malaysian-youtube-audio-instructions/resolve/main/mixtral-audio-instruction.jsonl\n",
    "# !wget https://huggingface.co/datasets/mesolitica/Malaysian-SFT/resolve/main/combine/combined-malaysian-sft-20k-sample.jsonl"
   ]
  },
  {
   "cell_type": "code",
   "execution_count": 2,
   "id": "0ce79e4c",
   "metadata": {},
   "outputs": [],
   "source": [
    "import os\n",
    "\n",
    "os.environ['HF_HOME'] = '/home/husein/ssd3'\n",
    "os.environ['CUDA_VISIBLE_DEVICES'] = '2'"
   ]
  },
  {
   "cell_type": "code",
   "execution_count": 3,
   "id": "e7228ce6",
   "metadata": {},
   "outputs": [],
   "source": [
    "# !wget https://raw.githubusercontent.com/mesolitica/malaysian-dataset/refs/heads/master/llm-instruction/malaysian-sft/malaysian_sft.py"
   ]
  },
  {
   "cell_type": "code",
   "execution_count": 4,
   "id": "50799961",
   "metadata": {},
   "outputs": [],
   "source": [
    "import librosa\n",
    "import torch\n",
    "import torch.nn as nn\n",
    "import pandas as pd\n",
    "from datasets import Audio\n",
    "from peft import LoraConfig, get_peft_model\n",
    "from transformers import AutoProcessor, Qwen2AudioForConditionalGeneration, AutoConfig, AutoModelForCausalLM\n",
    "from streaming import MDSWriter\n",
    "from streaming.base.format.mds.encodings import Encoding, _encodings\n",
    "from streaming import LocalDataset\n",
    "from malaysian_sft import accept\n",
    "import streaming\n",
    "import numpy as np\n",
    "from tqdm import tqdm\n",
    "from glob import glob\n",
    "import os\n",
    "import json\n",
    "\n",
    "class UInt32(Encoding):\n",
    "    def encode(self, obj) -> bytes:\n",
    "        return obj.tobytes()\n",
    "\n",
    "    def decode(self, data: bytes):\n",
    "        return np.frombuffer(data, np.uint32)\n",
    "\n",
    "_encodings['uint32'] = UInt32\n",
    "\n",
    "columns = {\n",
    "    'input_ids': 'uint32',\n",
    "    'position_ids': 'uint32',\n",
    "    'attention_mask': 'uint32',\n",
    "    'audio': 'str',\n",
    "    'text': 'str'\n",
    "}\n",
    "hashes = 'sha1', 'xxh64'"
   ]
  },
  {
   "cell_type": "code",
   "execution_count": 5,
   "id": "41ec02c1",
   "metadata": {},
   "outputs": [],
   "source": [
    "processor = AutoProcessor.from_pretrained(\"Qwen/Qwen2-Audio-7B-Instruct\")\n",
    "audio_token = \"<|AUDIO|>\"\n",
    "audio_bos_token = \"<|audio_bos|>\"\n",
    "audio_eos_token = \"<|audio_eos|>\"\n",
    "audio_token_id = processor.tokenizer._convert_token_to_id_with_added_voc('<|AUDIO|>')\n",
    "pad_token_id = processor.tokenizer.pad_token_id\n",
    "tokenizer = processor.tokenizer\n",
    "torch_dtype = torch.bfloat16\n",
    "min_dtype = torch.finfo(torch_dtype).min\n",
    "sequence_length = 4096"
   ]
  },
  {
   "cell_type": "code",
   "execution_count": 6,
   "id": "8ba6da02",
   "metadata": {},
   "outputs": [],
   "source": [
    "df = pd.read_parquet('sample_filtered_gpt_omni-00000-of-00001.parquet')"
   ]
  },
  {
   "cell_type": "code",
   "execution_count": 7,
   "id": "97eefc0b",
   "metadata": {},
   "outputs": [
    {
     "name": "stderr",
     "output_type": "stream",
     "text": [
      "100%|█████████████████████████████████████████████████████████████████████████████████| 99997/99997 [00:16<00:00, 6018.34it/s]\n"
     ]
    }
   ],
   "source": [
    "data = []\n",
    "for i in tqdm(range(len(df))):\n",
    "    conversation = [\n",
    "        {\"role\": \"system\", \"content\": df.iloc[i]['system']},\n",
    "        {\"role\": \"user\", \"content\": [\n",
    "            {\"type\": \"audio\", \"audio_url\": df.iloc[i]['sliced_audio_filename']},\n",
    "        ]},\n",
    "        {\"role\": \"assistant\", \"content\": df.iloc[i]['answer']},\n",
    "    ]\n",
    "    text = processor.apply_chat_template(conversation, tokenize=False)\n",
    "    data.append({\n",
    "        'text': text,\n",
    "        'audio': df.iloc[i]['sliced_audio_filename'],\n",
    "        'input_ids': np.array([]).astype(np.uint32),\n",
    "        'position_ids': np.array([]).astype(np.uint32),\n",
    "        'attention_mask': np.array([]).astype(np.uint32),\n",
    "    })"
   ]
  },
  {
   "cell_type": "code",
   "execution_count": 8,
   "id": "5f031549",
   "metadata": {},
   "outputs": [],
   "source": [
    "df = pd.read_parquet('random_question_chunks-00000-of-00001.parquet')"
   ]
  },
  {
   "cell_type": "code",
   "execution_count": 9,
   "id": "3f2df374",
   "metadata": {},
   "outputs": [
    {
     "name": "stderr",
     "output_type": "stream",
     "text": [
      "100%|█████████████████████████████████████████████████████████████████████████████████| 76524/76524 [00:15<00:00, 5046.63it/s]\n"
     ]
    }
   ],
   "source": [
    "for i in tqdm(range(len(df))):\n",
    "    conversation = [\n",
    "        {\"role\": \"system\", \"content\": df.iloc[i]['system']},\n",
    "        {\"role\": \"user\", \"content\": [\n",
    "            {\"type\": \"audio\", \"audio_url\": df.iloc[i]['sliced_audio_filename']},\n",
    "        ]},\n",
    "        {\"role\": \"assistant\", \"content\": df.iloc[i]['answer']},\n",
    "    ]\n",
    "    text = processor.apply_chat_template(conversation, tokenize=False)\n",
    "    data.append({\n",
    "        'text': text,\n",
    "        'audio': df.iloc[i]['sliced_audio_filename'],\n",
    "        'input_ids': np.array([]).astype(np.uint32),\n",
    "        'position_ids': np.array([]).astype(np.uint32),\n",
    "        'attention_mask': np.array([]).astype(np.uint32),\n",
    "    })"
   ]
  },
  {
   "cell_type": "code",
   "execution_count": 10,
   "id": "44ac1f8a",
   "metadata": {},
   "outputs": [
    {
     "name": "stderr",
     "output_type": "stream",
     "text": [
      "83103it [00:42, 1947.16it/s]\n"
     ]
    }
   ],
   "source": [
    "import json\n",
    "import random\n",
    "\n",
    "system_ms = [\n",
    "    'You are a polite and helpful assistant that use voice to communicate with the user, always reply in Malay',\n",
    "    'always reply in malay, awak adalah voice chatbot yg sangat membantu dan communicate dengan orang menggunakan suara',\n",
    "    'u are a voice assistant that u use voice to communicate, always reply in malay',\n",
    "    'sentiasa balas dalam bahasa Melayu, awak adalah assistant suara yang menggunakan teknologi suara sintesis untuk berkomunikasi',\n",
    "]\n",
    "\n",
    "count = 0\n",
    "with open('mixtral-audio-instruction.jsonl') as fopen:\n",
    "    for l in tqdm(fopen):\n",
    "        l = json.loads(l)\n",
    "        q = l['chat'][0]['content_ms']\n",
    "        \n",
    "        a = l['chat'][1]['content_ms']\n",
    "            \n",
    "        if q is None:\n",
    "            continue\n",
    "            \n",
    "        if a is None:\n",
    "            continue\n",
    "        \n",
    "        if not accept(q):\n",
    "            continue\n",
    "    \n",
    "        if not accept(a):\n",
    "            continue\n",
    "            \n",
    "        conversation = [\n",
    "            {\"role\": \"system\", \"content\": random.choice(system_ms)},\n",
    "            {\"role\": \"user\", \"content\": [\n",
    "                {\"type\": \"audio\", \"audio_url\": l['filename']},\n",
    "                {\"type\": \"text\", \"text\": q},\n",
    "            ]},\n",
    "            {\"role\": \"assistant\", \"content\": a},\n",
    "        ]\n",
    "        text = processor.apply_chat_template(conversation, tokenize=False)\n",
    "        data.append({\n",
    "            'text': text,\n",
    "            'audio': l['filename'],\n",
    "            'input_ids': np.array([]).astype(np.uint32),\n",
    "            'position_ids': np.array([]).astype(np.uint32),\n",
    "            'attention_mask': np.array([]).astype(np.uint32),\n",
    "        })\n",
    "        count += 1\n",
    "        if count > 50000:\n",
    "            break"
   ]
  },
  {
   "cell_type": "code",
   "execution_count": 11,
   "id": "c41ee79f",
   "metadata": {},
   "outputs": [
    {
     "data": {
      "text/plain": [
       "['tokenized-4k/tokenized-0',\n",
       " 'tokenized-4k/tokenized-1',\n",
       " 'tokenized-4k/tokenized-2',\n",
       " 'tokenized-4k/tokenized-3',\n",
       " 'tokenized-4k/tokenized-4',\n",
       " 'tokenized-4k/tokenized-5',\n",
       " 'tokenized-4k/tokenized-6',\n",
       " 'tokenized-4k/tokenized-7',\n",
       " 'tokenized-4k/tokenized-8',\n",
       " 'tokenized-4k/tokenized-9',\n",
       " 'tokenized-4k/tokenized-10',\n",
       " 'tokenized-4k/tokenized-11',\n",
       " 'tokenized-4k/tokenized-12',\n",
       " 'tokenized-4k/tokenized-13',\n",
       " 'tokenized-4k/tokenized-14',\n",
       " 'tokenized-4k/tokenized-15',\n",
       " 'tokenized-4k/tokenized-16',\n",
       " 'tokenized-4k/tokenized-17']"
      ]
     },
     "execution_count": 11,
     "metadata": {},
     "output_type": "execute_result"
    }
   ],
   "source": [
    "folders = sorted(glob('tokenized-4k/tokenized-*'), key = lambda x: int(x.split('-')[-1]))\n",
    "folders"
   ]
  },
  {
   "cell_type": "code",
   "execution_count": 12,
   "id": "f2c2f66a",
   "metadata": {},
   "outputs": [
    {
     "data": {
      "text/plain": [
       "226522"
      ]
     },
     "execution_count": 12,
     "metadata": {},
     "output_type": "execute_result"
    }
   ],
   "source": [
    "len(data)"
   ]
  },
  {
   "cell_type": "code",
   "execution_count": 14,
   "id": "fc97c9ca",
   "metadata": {},
   "outputs": [],
   "source": [
    "!rm -rf packing-4k"
   ]
  },
  {
   "cell_type": "code",
   "execution_count": 15,
   "id": "f43f8315",
   "metadata": {},
   "outputs": [
    {
     "name": "stderr",
     "output_type": "stream",
     "text": [
      "100%|██████████████████████████████████████████████████████████████████████████████████| 5253/5253 [00:00<00:00, 15395.65it/s]\n",
      "100%|████████████████████████████████████████████████████████████████████████████████| 15367/15367 [00:01<00:00, 13458.10it/s]\n",
      "100%|██████████████████████████████████████████████████████████████████████████████████| 7390/7390 [00:00<00:00, 15311.48it/s]\n",
      "100%|████████████████████████████████████████████████████████████████████████████████| 18664/18664 [00:01<00:00, 13917.32it/s]\n",
      "100%|██████████████████████████████████████████████████████████████████████████████████| 4046/4046 [00:00<00:00, 13867.46it/s]\n",
      "100%|██████████████████████████████████████████████████████████████████████████████████| 1396/1396 [00:00<00:00, 10340.08it/s]\n",
      "100%|██████████████████████████████████████████████████████████████████████████████████| 1402/1402 [00:00<00:00, 10588.55it/s]\n",
      "100%|██████████████████████████████████████████████████████████████████████████████████| 2078/2078 [00:00<00:00, 13958.71it/s]\n",
      "100%|██████████████████████████████████████████████████████████████████████████████████| 8371/8371 [00:00<00:00, 13689.47it/s]\n",
      "100%|████████████████████████████████████████████████████████████████████████████████| 10850/10850 [00:00<00:00, 14039.43it/s]\n",
      "100%|██████████████████████████████████████████████████████████████████████████████████| 9205/9205 [00:00<00:00, 13082.22it/s]\n",
      "100%|████████████████████████████████████████████████████████████████████████████████| 10288/10288 [00:00<00:00, 13833.22it/s]\n",
      "100%|████████████████████████████████████████████████████████████████████████████████| 13322/13322 [00:00<00:00, 14901.87it/s]\n",
      "100%|████████████████████████████████████████████████████████████████████████████████| 12469/12469 [00:00<00:00, 14248.41it/s]\n",
      "100%|██████████████████████████████████████████████████████████████████████████████████| 8899/8899 [00:00<00:00, 12751.79it/s]\n",
      "100%|██████████████████████████████████████████████████████████████████████████████████| 6090/6090 [00:00<00:00, 14140.83it/s]\n",
      "100%|████████████████████████████████████████████████████████████████████████████████| 15427/15427 [00:01<00:00, 14499.60it/s]\n",
      "100%|██████████████████████████████████████████████████████████████████████████████████| 3630/3630 [00:00<00:00, 12579.00it/s]\n",
      "100%|█████████████████████████████████████████████████████████████████████████████| 226522/226522 [00:01<00:00, 199326.25it/s]\n"
     ]
    }
   ],
   "source": [
    "with MDSWriter(out='packing-4k', columns=columns, compression=None, hashes=hashes) as out:\n",
    "    for f in folders:\n",
    "        try:\n",
    "            dataset = LocalDataset(local=f)\n",
    "            for i in tqdm(range(len(dataset))):\n",
    "                out.write(dataset[i])\n",
    "        except Exception as e:\n",
    "            print(e)\n",
    "            pass\n",
    "    \n",
    "    for d in tqdm(data):\n",
    "        out.write(d)"
   ]
  },
  {
   "cell_type": "code",
   "execution_count": 16,
   "id": "74c651f0",
   "metadata": {},
   "outputs": [
    {
     "data": {
      "text/plain": [
       "{'attention_mask': array([], dtype=uint32),\n",
       " 'audio': 'output-audio/0-2758-27.mp3',\n",
       " 'input_ids': array([], dtype=uint32),\n",
       " 'position_ids': array([], dtype=uint32),\n",
       " 'text': '<|im_start|>system\\nsentiasa balas dalam bahasa Melayu, awak adalah assistant suara yang menggunakan teknologi suara sintesis untuk berkomunikasi<|im_end|>\\n<|im_start|>user\\nAudio 1: <|audio_bos|><|AUDIO|><|audio_eos|>\\nApakah peranan Allah dalam menentukan rezeki seseorang (nafkah atau rezeki)?<|im_end|>\\n<|im_start|>assistant\\nDalam petikan yang anda sediakan, penceramah menyatakan kepercayaan bahawa \"rezeki\" (rezeki atau rezeki) mereka berada di tangan Allah, dewa Muslim. Mereka mencadangkan bahawa apa sahaja yang dilakukan, jika Allah menghendaki ia berlaku, ia akan berlaku. Penceramah juga menasihati penonton mereka untuk melindungi dan menjaga orang yang bekerja untuk mereka, di dalam dan di luar pejabat.\\n\\nDalam akidah Islam, Allah dilihat sebagai pemberi rezeki dan penghidupan yang paling utama. Umat Islam percaya bahawa Allah telah menentukan rezeki bagi setiap orang, dan kehendak Allah jualah yang akhirnya mendatangkan rezeki. Kepercayaan ini berdasarkan beberapa ayat dalam al-Quran, seperti:\\n\\n* \"Dan tiada suatu binatang melata pun di bumi melainkan Allah bergantung kepada rezekinya, Dia mengetahui tempat tinggalnya dan simpanannya (dalam rahim atau kubur). Semuanya jelas di sisi-Nya, tidak ada sesiapapun yang dapat menyembunyikan dirinya daripadanya. Dia\" (Quran 11:6).\\n* \"Dan sesungguhnya Kami telah mengutus (rasul-rasul) kepada umat-umat sebelummu (Muhammad), kemudian Kami siksa mereka dengan kemiskinan dan kesengsaraan, supaya mereka merendahkan diri (kepada Kami)\" (Al-Quran 6:42).\\n* \"Dan tidak ada binatang melata di bumi dan tidak pula burung yang terbang dengan sayapnya melainkan umat seperti kamu. Kami tidak melalaikan sesuatu pun di dalam Al-Kitab, kemudian kepada Tuhan merekalah mereka akan dihimpunkan\" (Quran 6:38).\\n\\nOleh itu, peranan Allah dalam penentuan rezeki seseorang dilihat sebagai menyeluruh dan mutlak. Walaupun manusia digalakkan untuk bekerja keras dan berusaha untuk berjaya, mereka akhirnya bergantung kepada kehendak dan ketentuan Allah.<|im_end|>\\n'}"
      ]
     },
     "execution_count": 16,
     "metadata": {},
     "output_type": "execute_result"
    }
   ],
   "source": [
    "dataset = LocalDataset('packing-4k')\n",
    "dataset[-1]"
   ]
  },
  {
   "cell_type": "code",
   "execution_count": 23,
   "id": "b8abc0ba",
   "metadata": {
    "scrolled": true
   },
   "outputs": [
    {
     "data": {
      "text/plain": [
       "(4096,)"
      ]
     },
     "execution_count": 23,
     "metadata": {},
     "output_type": "execute_result"
    }
   ],
   "source": [
    "dataset[0]['input_ids'].shape"
   ]
  },
  {
   "cell_type": "code",
   "execution_count": null,
   "id": "a4187e06",
   "metadata": {},
   "outputs": [
    {
     "data": {
      "application/vnd.jupyter.widget-view+json": {
       "model_id": "bab593483ec849bda7fcc7ff95c577f0",
       "version_major": 2,
       "version_minor": 0
      },
      "text/plain": [
       "shard.00000.mds:   0%|          | 0.00/67.1M [00:00<?, ?B/s]"
      ]
     },
     "metadata": {},
     "output_type": "display_data"
    },
    {
     "data": {
      "application/vnd.jupyter.widget-view+json": {
       "model_id": "a706f686ea1d4b1c9943be58200e9a1e",
       "version_major": 2,
       "version_minor": 0
      },
      "text/plain": [
       "shard.00001.mds:   0%|          | 0.00/67.1M [00:00<?, ?B/s]"
      ]
     },
     "metadata": {},
     "output_type": "display_data"
    },
    {
     "data": {
      "application/vnd.jupyter.widget-view+json": {
       "model_id": "1355d2ba024c425f80c9d11d2a5ea251",
       "version_major": 2,
       "version_minor": 0
      },
      "text/plain": [
       "Upload 79 LFS files:   0%|          | 0/79 [00:00<?, ?it/s]"
      ]
     },
     "metadata": {},
     "output_type": "display_data"
    },
    {
     "data": {
      "application/vnd.jupyter.widget-view+json": {
       "model_id": "9a7a8fb4502a4fabbfc5589182705721",
       "version_major": 2,
       "version_minor": 0
      },
      "text/plain": [
       "shard.00002.mds:   0%|          | 0.00/67.1M [00:00<?, ?B/s]"
      ]
     },
     "metadata": {},
     "output_type": "display_data"
    },
    {
     "data": {
      "application/vnd.jupyter.widget-view+json": {
       "model_id": "91e2f877a6284f43a8ef6d80c96990b1",
       "version_major": 2,
       "version_minor": 0
      },
      "text/plain": [
       "shard.00003.mds:   0%|          | 0.00/67.1M [00:00<?, ?B/s]"
      ]
     },
     "metadata": {},
     "output_type": "display_data"
    },
    {
     "data": {
      "application/vnd.jupyter.widget-view+json": {
       "model_id": "bf78b5c6c8744b918cc812116400cbf3",
       "version_major": 2,
       "version_minor": 0
      },
      "text/plain": [
       "shard.00004.mds:   0%|          | 0.00/67.1M [00:00<?, ?B/s]"
      ]
     },
     "metadata": {},
     "output_type": "display_data"
    },
    {
     "data": {
      "application/vnd.jupyter.widget-view+json": {
       "model_id": "1f9288a955be44438c3b16f859cedf69",
       "version_major": 2,
       "version_minor": 0
      },
      "text/plain": [
       "shard.00005.mds:   0%|          | 0.00/67.1M [00:00<?, ?B/s]"
      ]
     },
     "metadata": {},
     "output_type": "display_data"
    },
    {
     "data": {
      "application/vnd.jupyter.widget-view+json": {
       "model_id": "81e5d078058f499088bb739a609aff1f",
       "version_major": 2,
       "version_minor": 0
      },
      "text/plain": [
       "shard.00006.mds:   0%|          | 0.00/67.1M [00:00<?, ?B/s]"
      ]
     },
     "metadata": {},
     "output_type": "display_data"
    },
    {
     "data": {
      "application/vnd.jupyter.widget-view+json": {
       "model_id": "9bb615aa527d433ba4db68e341d42bd9",
       "version_major": 2,
       "version_minor": 0
      },
      "text/plain": [
       "shard.00007.mds:   0%|          | 0.00/67.1M [00:00<?, ?B/s]"
      ]
     },
     "metadata": {},
     "output_type": "display_data"
    },
    {
     "data": {
      "application/vnd.jupyter.widget-view+json": {
       "model_id": "1dfe30317987408f8bab84f9b60198f3",
       "version_major": 2,
       "version_minor": 0
      },
      "text/plain": [
       "shard.00008.mds:   0%|          | 0.00/67.1M [00:00<?, ?B/s]"
      ]
     },
     "metadata": {},
     "output_type": "display_data"
    },
    {
     "data": {
      "application/vnd.jupyter.widget-view+json": {
       "model_id": "0bf29619520b457e9951f8ef3293e19a",
       "version_major": 2,
       "version_minor": 0
      },
      "text/plain": [
       "shard.00009.mds:   0%|          | 0.00/67.1M [00:00<?, ?B/s]"
      ]
     },
     "metadata": {},
     "output_type": "display_data"
    },
    {
     "data": {
      "application/vnd.jupyter.widget-view+json": {
       "model_id": "ef9144d050a745a0a659a5a2069223f5",
       "version_major": 2,
       "version_minor": 0
      },
      "text/plain": [
       "shard.00010.mds:   0%|          | 0.00/67.1M [00:00<?, ?B/s]"
      ]
     },
     "metadata": {},
     "output_type": "display_data"
    },
    {
     "data": {
      "application/vnd.jupyter.widget-view+json": {
       "model_id": "77ad2e648e4c4f3da168a4a2db015a53",
       "version_major": 2,
       "version_minor": 0
      },
      "text/plain": [
       "shard.00011.mds:   0%|          | 0.00/67.1M [00:00<?, ?B/s]"
      ]
     },
     "metadata": {},
     "output_type": "display_data"
    },
    {
     "data": {
      "application/vnd.jupyter.widget-view+json": {
       "model_id": "603a88ab375d4738bfb56d06d7c55a5d",
       "version_major": 2,
       "version_minor": 0
      },
      "text/plain": [
       "shard.00012.mds:   0%|          | 0.00/67.1M [00:00<?, ?B/s]"
      ]
     },
     "metadata": {},
     "output_type": "display_data"
    },
    {
     "data": {
      "application/vnd.jupyter.widget-view+json": {
       "model_id": "e296be1233b34692934b8eca6a0bddb4",
       "version_major": 2,
       "version_minor": 0
      },
      "text/plain": [
       "shard.00013.mds:   0%|          | 0.00/67.1M [00:00<?, ?B/s]"
      ]
     },
     "metadata": {},
     "output_type": "display_data"
    },
    {
     "data": {
      "application/vnd.jupyter.widget-view+json": {
       "model_id": "1ec0abbefd2a45239ca10bf9695a1365",
       "version_major": 2,
       "version_minor": 0
      },
      "text/plain": [
       "shard.00014.mds:   0%|          | 0.00/67.1M [00:00<?, ?B/s]"
      ]
     },
     "metadata": {},
     "output_type": "display_data"
    },
    {
     "data": {
      "application/vnd.jupyter.widget-view+json": {
       "model_id": "f01191ac00c44c24b24272010ad6ee9f",
       "version_major": 2,
       "version_minor": 0
      },
      "text/plain": [
       "shard.00015.mds:   0%|          | 0.00/67.1M [00:00<?, ?B/s]"
      ]
     },
     "metadata": {},
     "output_type": "display_data"
    },
    {
     "data": {
      "application/vnd.jupyter.widget-view+json": {
       "model_id": "d8941158cef44e2182e4a079f26ccc85",
       "version_major": 2,
       "version_minor": 0
      },
      "text/plain": [
       "shard.00016.mds:   0%|          | 0.00/67.1M [00:00<?, ?B/s]"
      ]
     },
     "metadata": {},
     "output_type": "display_data"
    },
    {
     "data": {
      "application/vnd.jupyter.widget-view+json": {
       "model_id": "e1fff3b90b7e43c38db45e9cc27cd137",
       "version_major": 2,
       "version_minor": 0
      },
      "text/plain": [
       "shard.00017.mds:   0%|          | 0.00/67.1M [00:00<?, ?B/s]"
      ]
     },
     "metadata": {},
     "output_type": "display_data"
    },
    {
     "data": {
      "application/vnd.jupyter.widget-view+json": {
       "model_id": "bf9acfc826cb45a78bf846142eeeff95",
       "version_major": 2,
       "version_minor": 0
      },
      "text/plain": [
       "shard.00018.mds:   0%|          | 0.00/67.1M [00:00<?, ?B/s]"
      ]
     },
     "metadata": {},
     "output_type": "display_data"
    },
    {
     "data": {
      "application/vnd.jupyter.widget-view+json": {
       "model_id": "164a65815c884c93b97d22ec622c71de",
       "version_major": 2,
       "version_minor": 0
      },
      "text/plain": [
       "shard.00019.mds:   0%|          | 0.00/67.1M [00:00<?, ?B/s]"
      ]
     },
     "metadata": {},
     "output_type": "display_data"
    },
    {
     "data": {
      "application/vnd.jupyter.widget-view+json": {
       "model_id": "2e3b97da53be492fa8ad41611fdf1054",
       "version_major": 2,
       "version_minor": 0
      },
      "text/plain": [
       "shard.00020.mds:   0%|          | 0.00/67.1M [00:00<?, ?B/s]"
      ]
     },
     "metadata": {},
     "output_type": "display_data"
    },
    {
     "data": {
      "application/vnd.jupyter.widget-view+json": {
       "model_id": "4333370fda6742d28cc6e6119f10506a",
       "version_major": 2,
       "version_minor": 0
      },
      "text/plain": [
       "shard.00021.mds:   0%|          | 0.00/67.1M [00:00<?, ?B/s]"
      ]
     },
     "metadata": {},
     "output_type": "display_data"
    }
   ],
   "source": [
    "from huggingface_hub import HfApi\n",
    "api = HfApi()\n",
    "\n",
    "api.upload_folder(\n",
    "    folder_path=\"packing-4k\",\n",
    "    repo_id=\"huseinzol05/malaysian-audio-qa-pretraining\",\n",
    "    repo_type=\"dataset\",\n",
    ")"
   ]
  },
  {
   "cell_type": "code",
   "execution_count": null,
   "id": "45ef3817",
   "metadata": {},
   "outputs": [],
   "source": []
  }
 ],
 "metadata": {
  "kernelspec": {
   "display_name": "python3.10",
   "language": "python",
   "name": "python3.10"
  },
  "language_info": {
   "codemirror_mode": {
    "name": "ipython",
    "version": 3
   },
   "file_extension": ".py",
   "mimetype": "text/x-python",
   "name": "python",
   "nbconvert_exporter": "python",
   "pygments_lexer": "ipython3",
   "version": "3.10.15"
  }
 },
 "nbformat": 4,
 "nbformat_minor": 5
}
