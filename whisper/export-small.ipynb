{
 "cells": [
  {
   "cell_type": "code",
   "execution_count": 1,
   "id": "9bfb001a",
   "metadata": {},
   "outputs": [],
   "source": [
    "import torch\n",
    "from transformers import GenerationConfig, WhisperConfig, WhisperFeatureExtractor, WhisperForConditionalGeneration, WhisperProcessor, WhisperTokenizerFast"
   ]
  },
  {
   "cell_type": "code",
   "execution_count": 2,
   "id": "4edaa339",
   "metadata": {},
   "outputs": [
    {
     "data": {
      "text/plain": [
       "'small/checkpoint-7000'"
      ]
     },
     "execution_count": 2,
     "metadata": {},
     "output_type": "execute_result"
    }
   ],
   "source": [
    "from transformers.trainer_utils import get_last_checkpoint\n",
    "\n",
    "latest = get_last_checkpoint(\"small\")\n",
    "latest"
   ]
  },
  {
   "cell_type": "code",
   "execution_count": 3,
   "id": "286f78a9",
   "metadata": {},
   "outputs": [],
   "source": [
    "from streaming import LocalDataset\n",
    "\n",
    "dataset = LocalDataset('mosaic-combine-stt')"
   ]
  },
  {
   "cell_type": "code",
   "execution_count": 4,
   "id": "6cc71c37",
   "metadata": {},
   "outputs": [],
   "source": [
    "config = WhisperConfig.from_pretrained('openai/whisper-small')\n",
    "feature_extractor = WhisperFeatureExtractor.from_pretrained(\n",
    "    'openai/whisper-small'\n",
    ")\n",
    "tokenizer = WhisperTokenizerFast.from_pretrained(\n",
    "    'openai/whisper-small'\n",
    ")\n",
    "processor = WhisperProcessor.from_pretrained(\n",
    "    'openai/whisper-small'\n",
    ")"
   ]
  },
  {
   "cell_type": "code",
   "execution_count": 5,
   "id": "22afdfad",
   "metadata": {},
   "outputs": [],
   "source": [
    "model = WhisperForConditionalGeneration.from_pretrained(latest)"
   ]
  },
  {
   "cell_type": "code",
   "execution_count": 6,
   "id": "b3992ce3",
   "metadata": {},
   "outputs": [],
   "source": [
    "import soundfile as sf\n",
    "from glob import glob\n",
    "\n",
    "y, sr = sf.read(dataset[0]['audio_filename'])\n",
    "y2, sr = sf.read(dataset[1]['audio_filename'])\n",
    "y3, sr = sf.read(dataset[2]['audio_filename'])"
   ]
  },
  {
   "cell_type": "code",
   "execution_count": 11,
   "id": "fb81994b",
   "metadata": {},
   "outputs": [
    {
     "data": {
      "text/plain": [
       "{'audio_filename': 'part3-separate-audio-mp3/conf_2523_2523_00862076-266.mp3',\n",
       " 'new_text': \"<|startoftranscript|><|en|><|transcribe|> he's wearing orange shorts right, okay, okay maybe maybe you tell me the or the wave on the top right<|endoftext|>\"}"
      ]
     },
     "execution_count": 11,
     "metadata": {},
     "output_type": "execute_result"
    }
   ],
   "source": [
    "dataset[0]"
   ]
  },
  {
   "cell_type": "code",
   "execution_count": 12,
   "id": "10bff4c4",
   "metadata": {},
   "outputs": [
    {
     "name": "stderr",
     "output_type": "stream",
     "text": [
      "It is strongly recommended to pass the `sampling_rate` argument to this function. Failing to do so can result in silent errors that might be hard to debug.\n"
     ]
    }
   ],
   "source": [
    "p = processor([y], return_tensors='pt')"
   ]
  },
  {
   "cell_type": "code",
   "execution_count": 13,
   "id": "0f4bb16a",
   "metadata": {},
   "outputs": [
    {
     "data": {
      "text/plain": [
       "\"<|startoftranscript|><|en|><|transcribe|> he's wearing orange shorts right, okay, okay maybe maybe you tell me the, or the wave on the top right<|endoftext|>\""
      ]
     },
     "execution_count": 13,
     "metadata": {},
     "output_type": "execute_result"
    }
   ],
   "source": [
    "r = model.generate(p['input_features'],\n",
    "            output_scores=True,\n",
    "            return_dict_in_generate=True,\n",
    "            language='en',\n",
    "            return_timestamps=True)\n",
    "processor.tokenizer.decode(r.sequences[0])"
   ]
  },
  {
   "cell_type": "code",
   "execution_count": 14,
   "id": "c335a600",
   "metadata": {},
   "outputs": [
    {
     "data": {
      "text/plain": [
       "'<|startoftranscript|><|ms|><|transcribe|> dia sangat berbual, baiklah mungkin mungkin anda beritahu saya atau jalan di atas kan<|endoftext|>'"
      ]
     },
     "execution_count": 14,
     "metadata": {},
     "output_type": "execute_result"
    }
   ],
   "source": [
    "r = model.generate(p['input_features'],\n",
    "            output_scores=True,\n",
    "            return_dict_in_generate=True,\n",
    "            language='ms',\n",
    "            return_timestamps=True)\n",
    "processor.tokenizer.decode(r.sequences[0])"
   ]
  },
  {
   "cell_type": "code",
   "execution_count": 15,
   "id": "298ea14c",
   "metadata": {},
   "outputs": [],
   "source": [
    "model = model.type(torch.bfloat16)"
   ]
  },
  {
   "cell_type": "code",
   "execution_count": 16,
   "id": "c98d31db",
   "metadata": {},
   "outputs": [
    {
     "name": "stderr",
     "output_type": "stream",
     "text": [
      "/home/ubuntu/.local/lib/python3.10/site-packages/transformers/utils/hub.py:671: UserWarning: The `organization` argument is deprecated and will be removed in v5 of Transformers. Set your organization directly in the `repo_id` passed instead (`repo_id={organization}/{model_id}`).\n",
      "  warnings.warn(\n"
     ]
    },
    {
     "data": {
      "application/vnd.jupyter.widget-view+json": {
       "model_id": "b680d7b1bb53401ebb8930fbf8435087",
       "version_major": 2,
       "version_minor": 0
      },
      "text/plain": [
       "model.safetensors:   0%|          | 0.00/484M [00:00<?, ?B/s]"
      ]
     },
     "metadata": {},
     "output_type": "display_data"
    },
    {
     "data": {
      "text/plain": [
       "CommitInfo(commit_url='https://huggingface.co/mesolitica/malaysian-whisper-small/commit/20df138280825ec3a18e8a7ead70f6561ec1628c', commit_message='Upload WhisperForConditionalGeneration', commit_description='', oid='20df138280825ec3a18e8a7ead70f6561ec1628c', pr_url=None, pr_revision=None, pr_num=None)"
      ]
     },
     "execution_count": 16,
     "metadata": {},
     "output_type": "execute_result"
    }
   ],
   "source": [
    "model.push_to_hub('malaysian-whisper-small', organization='mesolitica', safe_serialization=True)"
   ]
  },
  {
   "cell_type": "code",
   "execution_count": 17,
   "id": "f0d981d4",
   "metadata": {},
   "outputs": [
    {
     "name": "stderr",
     "output_type": "stream",
     "text": [
      "/home/ubuntu/.local/lib/python3.10/site-packages/transformers/utils/hub.py:671: UserWarning: The `organization` argument is deprecated and will be removed in v5 of Transformers. Set your organization directly in the `repo_id` passed instead (`repo_id={organization}/{model_id}`).\n",
      "  warnings.warn(\n"
     ]
    },
    {
     "data": {
      "text/plain": [
       "CommitInfo(commit_url='https://huggingface.co/mesolitica/malaysian-whisper-small/commit/1eff286c2669e84a4a0a4497f68756a58e52dc75', commit_message='Upload feature extractor', commit_description='', oid='1eff286c2669e84a4a0a4497f68756a58e52dc75', pr_url=None, pr_revision=None, pr_num=None)"
      ]
     },
     "execution_count": 17,
     "metadata": {},
     "output_type": "execute_result"
    }
   ],
   "source": [
    "feature_extractor.push_to_hub('malaysian-whisper-small', organization='mesolitica', safe_serialization=True)"
   ]
  },
  {
   "cell_type": "code",
   "execution_count": 18,
   "id": "62975a05",
   "metadata": {},
   "outputs": [
    {
     "data": {
      "text/plain": [
       "CommitInfo(commit_url='https://huggingface.co/mesolitica/malaysian-whisper-small/commit/582927b0c788abec54401128be64766ba8d3e259', commit_message='Upload tokenizer', commit_description='', oid='582927b0c788abec54401128be64766ba8d3e259', pr_url=None, pr_revision=None, pr_num=None)"
      ]
     },
     "execution_count": 18,
     "metadata": {},
     "output_type": "execute_result"
    }
   ],
   "source": [
    "tokenizer.push_to_hub('malaysian-whisper-small', organization='mesolitica', safe_serialization=True)"
   ]
  },
  {
   "cell_type": "code",
   "execution_count": 19,
   "id": "8c9c384f",
   "metadata": {},
   "outputs": [
    {
     "data": {
      "text/plain": [
       "CommitInfo(commit_url='https://huggingface.co/mesolitica/malaysian-whisper-small/commit/9a975b97801d946463d9062a4c25890440eef6b8', commit_message='Upload processor', commit_description='', oid='9a975b97801d946463d9062a4c25890440eef6b8', pr_url=None, pr_revision=None, pr_num=None)"
      ]
     },
     "execution_count": 19,
     "metadata": {},
     "output_type": "execute_result"
    }
   ],
   "source": [
    "processor.push_to_hub('malaysian-whisper-small', organization='mesolitica', safe_serialization=True)"
   ]
  }
 ],
 "metadata": {
  "kernelspec": {
   "display_name": "Python 3 (ipykernel)",
   "language": "python",
   "name": "python3"
  },
  "language_info": {
   "codemirror_mode": {
    "name": "ipython",
    "version": 3
   },
   "file_extension": ".py",
   "mimetype": "text/x-python",
   "name": "python",
   "nbconvert_exporter": "python",
   "pygments_lexer": "ipython3",
   "version": "3.10.12"
  }
 },
 "nbformat": 4,
 "nbformat_minor": 5
}
